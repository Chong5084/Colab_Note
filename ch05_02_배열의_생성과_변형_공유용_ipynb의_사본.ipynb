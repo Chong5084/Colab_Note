{
  "nbformat": 4,
  "nbformat_minor": 0,
  "metadata": {
    "colab": {
      "provenance": [],
      "include_colab_link": true
    },
    "kernelspec": {
      "name": "python3",
      "display_name": "Python 3"
    },
    "language_info": {
      "name": "python"
    }
  },
  "cells": [
    {
      "cell_type": "markdown",
      "metadata": {
        "id": "view-in-github",
        "colab_type": "text"
      },
      "source": [
        "<a href=\"https://colab.research.google.com/github/Chong5084/Colab_Note/blob/main/ch05_02_%EB%B0%B0%EC%97%B4%EC%9D%98_%EC%83%9D%EC%84%B1%EA%B3%BC_%EB%B3%80%ED%98%95_%EA%B3%B5%EC%9C%A0%EC%9A%A9_ipynb%EC%9D%98_%EC%82%AC%EB%B3%B8.ipynb\" target=\"_parent\"><img src=\"https://colab.research.google.com/assets/colab-badge.svg\" alt=\"Open In Colab\"/></a>"
      ]
    },
    {
      "cell_type": "markdown",
      "source": [
        "# 배열의 생성과 변형"
      ],
      "metadata": {
        "id": "_0K1tgYXZdVs"
      }
    },
    {
      "cell_type": "markdown",
      "source": [
        "## Numpy의 자료형\n",
        "* Numpy의 배열 즉, `ndarray` 클래스는 원소가 모두 같은 자료형이어야 함\n",
        "* `array` 명령으로 배열을 만들 때 자료형을 명시적으로 적용하려면 `dtype` 인수를 사용\n",
        "* 만약 `dtype` 인수가 없으면 주어진 데이터를 저장할 수 있는 자료형을 스스로 유추\n",
        "* 만들어진 배열의 자료형을 알아내려면 `dtype` 속성을 사용\n"
      ],
      "metadata": {
        "id": "7GRh7kJrpWro"
      }
    },
    {
      "cell_type": "code",
      "source": [
        "import numpy as np"
      ],
      "metadata": {
        "id": "rYTmFQ5fpp7o"
      },
      "execution_count": null,
      "outputs": []
    },
    {
      "cell_type": "code",
      "source": [
        "x = np.array([1, 2, 3])\n",
        "x, x.ndim, x.shape, x.dtype\n"
      ],
      "metadata": {
        "colab": {
          "base_uri": "https://localhost:8080/"
        },
        "id": "d64JSVz2psei",
        "outputId": "3659243b-412e-4b7f-e253-6ab67cba4b20"
      },
      "execution_count": null,
      "outputs": [
        {
          "output_type": "execute_result",
          "data": {
            "text/plain": [
              "(array([1, 2, 3]), 1, (3,), dtype('int64'))"
            ]
          },
          "metadata": {},
          "execution_count": 13
        }
      ]
    },
    {
      "cell_type": "code",
      "source": [
        "x = np.array([1.0, 2.0, 3.0])\n",
        "x, x.ndim, x.shape, x.dtype # float(소수)"
      ],
      "metadata": {
        "colab": {
          "base_uri": "https://localhost:8080/"
        },
        "id": "32A5zgi0T7r4",
        "outputId": "051616af-8a15-4117-cff2-75467666de66"
      },
      "execution_count": null,
      "outputs": [
        {
          "output_type": "execute_result",
          "data": {
            "text/plain": [
              "(array([1., 2., 3.]), 1, (3,), dtype('float64'))"
            ]
          },
          "metadata": {},
          "execution_count": 17
        }
      ]
    },
    {
      "cell_type": "code",
      "source": [
        "x = np.array([1, 2, 3]) # 하나라도 float(소수)면 전부 float(소수)속성을 가짐\n",
        "x, x.ndim, x.shape, x.dtype"
      ],
      "metadata": {
        "colab": {
          "base_uri": "https://localhost:8080/"
        },
        "id": "qhvxcT2dUXd8",
        "outputId": "ce523c3f-cbc6-43bc-c25c-f36060febd90"
      },
      "execution_count": null,
      "outputs": [
        {
          "output_type": "execute_result",
          "data": {
            "text/plain": [
              "(array([1., 2., 3.]), 1, (3,), dtype('float64'))"
            ]
          },
          "metadata": {},
          "execution_count": 19
        }
      ]
    },
    {
      "cell_type": "code",
      "source": [],
      "metadata": {
        "id": "mFLyII5RpuNJ"
      },
      "execution_count": null,
      "outputs": []
    },
    {
      "cell_type": "markdown",
      "source": [
        "* `dtype` 인수\n",
        "    * dtype 접두사로 시작하는 문자열\n",
        "    * 접두사 뒤 오는 숫자 = 바이트 수 혹은 글자 수\n",
        "    * 숫자 생략 시 운영체제에 따라 알맞은 크기 지정\n",
        "\n",
        "|dtype 접두사|설명|사용 예|\n",
        "|-|-|-|\n",
        "|`b`|불리언|`b` (참 혹은 거짓)|\n",
        "|`i`|정수|`i8` (64비트)|\n",
        "|`u`|부호 없는 정수|`u8` (64비트)|\n",
        "|`f`|부동소수점|`f8` (64비트)|\n",
        "|`c`|복소 부동소수점|`c16` (128비트)|\n",
        "|`O`|객체|`0` (객체에 대한 포인터)|\n",
        "|`S`|바이트 문자열|`S24` (24 글자)|\n",
        "|`U`|유니코드 문자열|`U24` (24 유니코드 글자)|"
      ],
      "metadata": {
        "id": "S6c6HHW7qH9g"
      }
    },
    {
      "cell_type": "code",
      "source": [
        "x = np.array([1, 2, 3], dtype=\"f\")\n",
        "x, x.ndim, x.shape, x.dtype"
      ],
      "metadata": {
        "colab": {
          "base_uri": "https://localhost:8080/"
        },
        "id": "UH6Ui6lLpviT",
        "outputId": "b43cc6b1-19dd-4602-f457-6147b9e169c3"
      },
      "execution_count": null,
      "outputs": [
        {
          "output_type": "execute_result",
          "data": {
            "text/plain": [
              "(array([1., 2., 3.], dtype=float32), 1, (3,), dtype('float32'))"
            ]
          },
          "metadata": {},
          "execution_count": 20
        }
      ]
    },
    {
      "cell_type": "code",
      "source": [
        "x[0] + x[1]"
      ],
      "metadata": {
        "colab": {
          "base_uri": "https://localhost:8080/"
        },
        "id": "nKM5M4FYrPTY",
        "outputId": "6c29cb5f-e1fb-4b50-ba08-70b16efb765d"
      },
      "execution_count": null,
      "outputs": [
        {
          "output_type": "execute_result",
          "data": {
            "text/plain": [
              "3.0"
            ]
          },
          "metadata": {},
          "execution_count": 21
        }
      ]
    },
    {
      "cell_type": "code",
      "source": [
        "x = np.array([1, 2, 3], dtype=\"U\")\n",
        "x, x.ndim, x.shape, x.dtype"
      ],
      "metadata": {
        "colab": {
          "base_uri": "https://localhost:8080/"
        },
        "id": "4W-7P_i8rRjf",
        "outputId": "eb943485-5909-4a75-a5c6-4dcf08a81200"
      },
      "execution_count": null,
      "outputs": [
        {
          "output_type": "execute_result",
          "data": {
            "text/plain": [
              "(array(['1', '2', '3'], dtype='<U1'), 1, (3,), dtype('<U1'))"
            ]
          },
          "metadata": {},
          "execution_count": 22
        }
      ]
    },
    {
      "cell_type": "code",
      "source": [
        "x[0] + x[1] # 1과 2를 문자열로 구분"
      ],
      "metadata": {
        "colab": {
          "base_uri": "https://localhost:8080/",
          "height": 35
        },
        "id": "5zquUdLsrUBT",
        "outputId": "99c834bc-b792-4727-f57b-253c579a9606"
      },
      "execution_count": null,
      "outputs": [
        {
          "output_type": "execute_result",
          "data": {
            "text/plain": [
              "'12'"
            ],
            "application/vnd.google.colaboratory.intrinsic+json": {
              "type": "string"
            }
          },
          "metadata": {},
          "execution_count": 23
        }
      ]
    },
    {
      "cell_type": "markdown",
      "source": [
        "## Inf와 NaN\n",
        "* Numpy에서는 무한대를 표현하기 위한 `np.inf`(infinity)와 정의할 수 없는 숫자를 나타내는 `np.nan(not a number)`을 사용\n"
      ],
      "metadata": {
        "id": "NsTbqgCerbwE"
      }
    },
    {
      "cell_type": "code",
      "source": [
        "# 1을 0으로 나누려고 할 때, 0을 0으로 나누려고 시도...\n",
        "np.array([0, 1, -1, 0]) / np.array([1, 0, 0, 0])  # 인덱스 간 짝을 이뤄서 연산"
      ],
      "metadata": {
        "colab": {
          "base_uri": "https://localhost:8080/"
        },
        "id": "dLGfAKh1rYxF",
        "outputId": "34b37af0-780c-4de6-efc0-4d9cf02cf33c"
      },
      "execution_count": null,
      "outputs": [
        {
          "output_type": "stream",
          "name": "stderr",
          "text": [
            "<ipython-input-26-6a849c1c8da3>:2: RuntimeWarning: divide by zero encountered in true_divide\n",
            "  np.array([0, 1, -1, 0]) / np.array([1, 0, 0, 0])  # 인덱스 간 짝을 이뤄서 연산\n",
            "<ipython-input-26-6a849c1c8da3>:2: RuntimeWarning: invalid value encountered in true_divide\n",
            "  np.array([0, 1, -1, 0]) / np.array([1, 0, 0, 0])  # 인덱스 간 짝을 이뤄서 연산\n"
          ]
        },
        {
          "output_type": "execute_result",
          "data": {
            "text/plain": [
              "array([  0.,  inf, -inf,  nan])"
            ]
          },
          "metadata": {},
          "execution_count": 26
        }
      ]
    },
    {
      "cell_type": "code",
      "source": [
        "# 0에 대한 로그 값을 계산\n",
        "np.log(0)"
      ],
      "metadata": {
        "colab": {
          "base_uri": "https://localhost:8080/"
        },
        "id": "KUc9TR0arwSH",
        "outputId": "3d10dc3d-c139-493e-f563-964e22bf4d8d"
      },
      "execution_count": null,
      "outputs": [
        {
          "output_type": "stream",
          "name": "stderr",
          "text": [
            "<ipython-input-30-cc64fe1345a2>:2: RuntimeWarning: divide by zero encountered in log\n",
            "  np.log(0)\n"
          ]
        },
        {
          "output_type": "execute_result",
          "data": {
            "text/plain": [
              "-inf"
            ]
          },
          "metadata": {},
          "execution_count": 30
        }
      ]
    },
    {
      "cell_type": "markdown",
      "source": [
        "## 배열 생성\n",
        "* `zeros`, `ones`\n",
        "* `zeros_like`, `ones_like`\n",
        "* `empty`\n",
        "* `arange`\n",
        "* `linspace`, `logspace`"
      ],
      "metadata": {
        "id": "Gxql5YN2sIwK"
      }
    },
    {
      "cell_type": "markdown",
      "source": [
        "### zeros : 크기가 정해져 있고 모든 값이 0인 배열 생성"
      ],
      "metadata": {
        "id": "dV6K4rBDso5y"
      }
    },
    {
      "cell_type": "code",
      "source": [
        "# 0 이상의 정수를 넣으면 해당 크기의 0으로 채워진 1차원 배열 생성\n",
        "a = np.zeros(5)\n",
        "# a = np.zeros(-1) 에러\n",
        "a"
      ],
      "metadata": {
        "id": "jvBZaBwFr8ie"
      },
      "execution_count": null,
      "outputs": []
    },
    {
      "cell_type": "code",
      "source": [
        "# 튜플을 넣으면 해당 크기의 0으로 채워진 다차원 배열 생성\n",
        "b = np.zeros((2, 3))\n",
        "b = np.zeros((2, 3, 1))\n",
        "b"
      ],
      "metadata": {
        "colab": {
          "base_uri": "https://localhost:8080/"
        },
        "id": "wP5UkGKHs0eW",
        "outputId": "6544456a-fabd-4abe-bf49-e0fa41192023"
      },
      "execution_count": null,
      "outputs": [
        {
          "output_type": "execute_result",
          "data": {
            "text/plain": [
              "array([[[0.],\n",
              "        [0.],\n",
              "        [0.]],\n",
              "\n",
              "       [[0.],\n",
              "        [0.],\n",
              "        [0.]]])"
            ]
          },
          "metadata": {},
          "execution_count": 39
        }
      ]
    },
    {
      "cell_type": "code",
      "source": [
        "# dtype 인수 명시 시 해당 자료형 원소 타입 부여\n",
        "c = np.zeros((5, 2), dtype = 'i')"
      ],
      "metadata": {
        "id": "hYK-Bdd3tGqJ"
      },
      "execution_count": null,
      "outputs": []
    },
    {
      "cell_type": "code",
      "source": [
        "# 문자열 배열도 가능하지만, 모든 원소의 문자열 크기가 같아야 함\n",
        "# 만약 더 큰 크기의 문자열을 할당하면 잘림\n",
        "# 0을 일종의 문자열로 취급할수 있는데\n",
        "# 특정한 길이에 자리 만든다\n",
        "d = np.zeros(5,dtype='U4') # 최대길이 4열인 문자열(U4)\n",
        "d #  숫자만큼 빈 문자열로 구성된 배열"
      ],
      "metadata": {
        "colab": {
          "base_uri": "https://localhost:8080/"
        },
        "id": "wWjlk9M_tPgW",
        "outputId": "204ec566-0078-4473-d14a-1466067b01c6"
      },
      "execution_count": null,
      "outputs": [
        {
          "output_type": "execute_result",
          "data": {
            "text/plain": [
              "array(['', '', '', '', ''], dtype='<U4')"
            ]
          },
          "metadata": {},
          "execution_count": 46
        }
      ]
    },
    {
      "cell_type": "code",
      "source": [
        "d[0] = 'abc'\n",
        "d"
      ],
      "metadata": {
        "colab": {
          "base_uri": "https://localhost:8080/"
        },
        "id": "Fg1GqBuVtZ5O",
        "outputId": "c9234f9e-bed6-45f9-e4a0-dd109e5742c8"
      },
      "execution_count": null,
      "outputs": [
        {
          "output_type": "execute_result",
          "data": {
            "text/plain": [
              "array(['abc', '', '', '', ''], dtype='<U4')"
            ]
          },
          "metadata": {},
          "execution_count": 48
        }
      ]
    },
    {
      "cell_type": "code",
      "source": [
        "d[0] = 'abc'\n",
        "d[1] = 'abcd'\n",
        "d[2] = ('abcd' + 'e').upper\n",
        "d"
      ],
      "metadata": {
        "colab": {
          "base_uri": "https://localhost:8080/"
        },
        "id": "FRdam37oZAHS",
        "outputId": "06b39fb3-0fe6-4309-b7ee-53f0c90f1b68"
      },
      "execution_count": null,
      "outputs": [
        {
          "output_type": "execute_result",
          "data": {
            "text/plain": [
              "array(['abc', 'abcd', '<bui', '', ''], dtype='<U4')"
            ]
          },
          "metadata": {},
          "execution_count": 49
        }
      ]
    },
    {
      "cell_type": "markdown",
      "source": [
        "### ones : 1로 초기화된 배열을 생성"
      ],
      "metadata": {
        "id": "0TTeHWMrtdnp"
      }
    },
    {
      "cell_type": "code",
      "source": [
        "# zeros랑 같은데 조금 다름 0이 아닌 1로 가득참\n",
        "# e = np.ones((2, 3, 4, 5), dtype='f8')\n",
        "e = np.ones((2, 3, 4, 5), dtype='U8')\n",
        "e"
      ],
      "metadata": {
        "colab": {
          "base_uri": "https://localhost:8080/"
        },
        "id": "ZSnn1IK6tk3F",
        "outputId": "3a399860-c94c-45a3-b7a9-9f1e5c4aef2a"
      },
      "execution_count": null,
      "outputs": [
        {
          "output_type": "execute_result",
          "data": {
            "text/plain": [
              "array([[[['1', '1', '1', '1', '1'],\n",
              "         ['1', '1', '1', '1', '1'],\n",
              "         ['1', '1', '1', '1', '1'],\n",
              "         ['1', '1', '1', '1', '1']],\n",
              "\n",
              "        [['1', '1', '1', '1', '1'],\n",
              "         ['1', '1', '1', '1', '1'],\n",
              "         ['1', '1', '1', '1', '1'],\n",
              "         ['1', '1', '1', '1', '1']],\n",
              "\n",
              "        [['1', '1', '1', '1', '1'],\n",
              "         ['1', '1', '1', '1', '1'],\n",
              "         ['1', '1', '1', '1', '1'],\n",
              "         ['1', '1', '1', '1', '1']]],\n",
              "\n",
              "\n",
              "       [[['1', '1', '1', '1', '1'],\n",
              "         ['1', '1', '1', '1', '1'],\n",
              "         ['1', '1', '1', '1', '1'],\n",
              "         ['1', '1', '1', '1', '1']],\n",
              "\n",
              "        [['1', '1', '1', '1', '1'],\n",
              "         ['1', '1', '1', '1', '1'],\n",
              "         ['1', '1', '1', '1', '1'],\n",
              "         ['1', '1', '1', '1', '1']],\n",
              "\n",
              "        [['1', '1', '1', '1', '1'],\n",
              "         ['1', '1', '1', '1', '1'],\n",
              "         ['1', '1', '1', '1', '1'],\n",
              "         ['1', '1', '1', '1', '1']]]], dtype='<U8')"
            ]
          },
          "metadata": {},
          "execution_count": 53
        }
      ]
    },
    {
      "cell_type": "markdown",
      "source": [
        "### ones_like, zeros_like : 다른 배열과 같은 크기의 배열을 생성"
      ],
      "metadata": {
        "id": "1hbjOKbxtqr5"
      }
    },
    {
      "cell_type": "code",
      "source": [
        "# like : 닮은 꼴, 닮다의 like\n",
        "b, b.shape"
      ],
      "metadata": {
        "colab": {
          "base_uri": "https://localhost:8080/"
        },
        "id": "xz1U2G5HtnHs",
        "outputId": "e53dde9d-4378-4245-bd9a-0cec47acfdca"
      },
      "execution_count": null,
      "outputs": [
        {
          "output_type": "execute_result",
          "data": {
            "text/plain": [
              "(array([[[0.],\n",
              "         [0.],\n",
              "         [0.]],\n",
              " \n",
              "        [[0.],\n",
              "         [0.],\n",
              "         [0.]]]),\n",
              " (2, 3, 1))"
            ]
          },
          "metadata": {},
          "execution_count": 57
        }
      ]
    },
    {
      "cell_type": "code",
      "source": [
        "f = np.ones_like(b, dtype='f')\n",
        "f, f.shape"
      ],
      "metadata": {
        "colab": {
          "base_uri": "https://localhost:8080/"
        },
        "id": "QTtwzUkwaEDZ",
        "outputId": "86ffac61-d566-4cdc-a9e4-32082d428074"
      },
      "execution_count": null,
      "outputs": [
        {
          "output_type": "execute_result",
          "data": {
            "text/plain": [
              "(array([[[1.],\n",
              "         [1.],\n",
              "         [1.]],\n",
              " \n",
              "        [[1.],\n",
              "         [1.],\n",
              "         [1.]]], dtype=float32),\n",
              " (2, 3, 1))"
            ]
          },
          "metadata": {},
          "execution_count": 61
        }
      ]
    },
    {
      "cell_type": "markdown",
      "source": [
        "### empty : 값 초기화 없이 배열을 생성 (시간 절약)\n",
        "* 기존 메모리에 저장되어 있던 값이 있음\n",
        "* 배열의 원소 값을 미리 알 수 없음"
      ],
      "metadata": {
        "id": "X6MaU-Ikt1Db"
      }
    },
    {
      "cell_type": "code",
      "source": [
        "g = np.empty((4, 3))\n",
        "g"
      ],
      "metadata": {
        "colab": {
          "base_uri": "https://localhost:8080/"
        },
        "id": "ZIhuuGFMtx7K",
        "outputId": "587d8d78-6391-4488-bb23-b84c790fea05"
      },
      "execution_count": null,
      "outputs": [
        {
          "output_type": "execute_result",
          "data": {
            "text/plain": [
              "array([[2.1609214e-316, 0.0000000e+000, 0.0000000e+000],\n",
              "       [0.0000000e+000, 0.0000000e+000, 0.0000000e+000],\n",
              "       [0.0000000e+000, 0.0000000e+000, 0.0000000e+000],\n",
              "       [0.0000000e+000, 0.0000000e+000, 0.0000000e+000]])"
            ]
          },
          "metadata": {},
          "execution_count": 62
        }
      ]
    },
    {
      "cell_type": "markdown",
      "source": [
        "### arange : 특정 규칙에 따라 증가하는 수열을 만듦 (like `range`)"
      ],
      "metadata": {
        "id": "9m6UebhOuIB-"
      }
    },
    {
      "cell_type": "code",
      "source": [],
      "metadata": {
        "id": "Y3p1AtW3uhJf"
      },
      "execution_count": null,
      "outputs": []
    },
    {
      "cell_type": "code",
      "source": [
        "np.arange(10), np.array(range(10))\n",
        "# arange() : array(range()의 줄임"
      ],
      "metadata": {
        "colab": {
          "base_uri": "https://localhost:8080/"
        },
        "id": "3FU9r6JOaw4k",
        "outputId": "ff0c06f3-b9a5-4f35-9c23-55ec88a4a46b"
      },
      "execution_count": null,
      "outputs": [
        {
          "output_type": "execute_result",
          "data": {
            "text/plain": [
              "array([0, 1, 2, 3, 4, 5, 6, 7, 8, 9])"
            ]
          },
          "metadata": {},
          "execution_count": 65
        }
      ]
    },
    {
      "cell_type": "code",
      "source": [
        "np.arange(3, 20, 2, dtype='f')"
      ],
      "metadata": {
        "colab": {
          "base_uri": "https://localhost:8080/"
        },
        "id": "6_HAebyLuiXj",
        "outputId": "e14d62ae-99cd-4dd1-9a84-1d335977619c"
      },
      "execution_count": null,
      "outputs": [
        {
          "output_type": "execute_result",
          "data": {
            "text/plain": [
              "array([ 3.,  5.,  7.,  9., 11., 13., 15., 17., 19.], dtype=float32)"
            ]
          },
          "metadata": {},
          "execution_count": 67
        }
      ]
    },
    {
      "cell_type": "markdown",
      "source": [
        "### linspace, logspace : 선형 구간 또는 로그 구간을 지정한 구간의 수만큼 분할"
      ],
      "metadata": {
        "id": "M7XRi-wDuqDT"
      }
    },
    {
      "cell_type": "code",
      "source": [
        "# 직선으로\n",
        "# linear\n",
        "np.linear(0, 100, 5)# 시작,(포함), 끝(포함), 갯수(구간)"
      ],
      "metadata": {
        "id": "tfvPvI41unpm"
      },
      "execution_count": null,
      "outputs": []
    },
    {
      "cell_type": "code",
      "source": [
        "np.logspace(0.1, 1, 10) # 시작(포함), 끝(포함), 갯수(구간)"
      ],
      "metadata": {
        "colab": {
          "base_uri": "https://localhost:8080/"
        },
        "id": "GZ1mxlH3u0C9",
        "outputId": "dccc0f36-32c5-45d8-8c41-4633657ac1c3"
      },
      "execution_count": null,
      "outputs": [
        {
          "output_type": "execute_result",
          "data": {
            "text/plain": [
              "array([ 1.25892541,  1.58489319,  1.99526231,  2.51188643,  3.16227766,\n",
              "        3.98107171,  5.01187234,  6.30957344,  7.94328235, 10.        ])"
            ]
          },
          "metadata": {},
          "execution_count": 68
        }
      ]
    },
    {
      "cell_type": "markdown",
      "source": [
        "## 전치 연산 (transpose)\n",
        "* 2차원 배열에서 행과 열을 바꾸는 작업\n",
        "* 배열의 `T` **속성**"
      ],
      "metadata": {
        "id": "BzGKpxy3y_Bs"
      }
    },
    {
      "cell_type": "code",
      "source": [
        "A = np.array([[1,2,3], [4,5,6]])\n",
        "A, A.ndim, A.shape\n"
      ],
      "metadata": {
        "colab": {
          "base_uri": "https://localhost:8080/"
        },
        "id": "zTx1Bpwru2DJ",
        "outputId": "d172fc69-a091-4d98-f4e1-b7335111e6b5"
      },
      "execution_count": null,
      "outputs": [
        {
          "output_type": "execute_result",
          "data": {
            "text/plain": [
              "(array([[1, 2, 3],\n",
              "        [4, 5, 6]]),\n",
              " 2,\n",
              " (2, 3))"
            ]
          },
          "metadata": {},
          "execution_count": 70
        }
      ]
    },
    {
      "cell_type": "code",
      "source": [
        "\"\"\"\n",
        "# 행 이었던 [1,2,3]과 [4,5,6]을 세로로 전환하여 새로운 열과 행을 생성\n",
        " [1, 4],\n",
        " [2, 5],\n",
        " [3, 6]\n",
        "\"\"\"\n",
        "A.T, A.T.ndim, A.T.shape\n"
      ],
      "metadata": {
        "colab": {
          "base_uri": "https://localhost:8080/"
        },
        "id": "si0lOh0ozOKR",
        "outputId": "d496e2d7-3b2e-4fb2-8849-9db88c5e2599"
      },
      "execution_count": null,
      "outputs": [
        {
          "output_type": "execute_result",
          "data": {
            "text/plain": [
              "(array([[1, 4],\n",
              "        [2, 5],\n",
              "        [3, 6]]),\n",
              " 2,\n",
              " (3, 2))"
            ]
          },
          "metadata": {},
          "execution_count": 73
        }
      ]
    },
    {
      "cell_type": "markdown",
      "source": [
        "## 배열의 크기 변형 (`reshape`)"
      ],
      "metadata": {
        "id": "5R9AhngezRwv"
      }
    },
    {
      "cell_type": "code",
      "source": [
        "# 3가지 방법\n",
        "#1.\n",
        "a = np.arange(12)\n",
        "a"
      ],
      "metadata": {
        "colab": {
          "base_uri": "https://localhost:8080/"
        },
        "id": "NUKMaFSszP-c",
        "outputId": "7bd74ac5-ee50-4f0c-ae14-01670f2689c1"
      },
      "execution_count": null,
      "outputs": [
        {
          "output_type": "execute_result",
          "data": {
            "text/plain": [
              "array([ 0,  1,  2,  3,  4,  5,  6,  7,  8,  9, 10, 11])"
            ]
          },
          "metadata": {},
          "execution_count": 74
        }
      ]
    },
    {
      "cell_type": "code",
      "source": [
        "# 2.\n",
        "b = a.reshape(3, 4) # shape의 구성요소 => 모두 곱햇을 때 전체 요소 갯수\n",
        "b"
      ],
      "metadata": {
        "colab": {
          "base_uri": "https://localhost:8080/"
        },
        "id": "MQIUt2EFzaYT",
        "outputId": "987273e6-800e-4700-9da5-2c4928134180"
      },
      "execution_count": null,
      "outputs": [
        {
          "output_type": "execute_result",
          "data": {
            "text/plain": [
              "array([[ 0,  1,  2,  3],\n",
              "       [ 4,  5,  6,  7],\n",
              "       [ 8,  9, 10, 11]])"
            ]
          },
          "metadata": {},
          "execution_count": 77
        }
      ]
    },
    {
      "cell_type": "code",
      "source": [
        "#3.\n",
        "np.arange(12).reshape(3, 4)"
      ],
      "metadata": {
        "colab": {
          "base_uri": "https://localhost:8080/"
        },
        "id": "bgpY5aQshBPA",
        "outputId": "31dbf8f6-0b5d-41fc-90c2-9405ab8252e5"
      },
      "execution_count": null,
      "outputs": [
        {
          "output_type": "execute_result",
          "data": {
            "text/plain": [
              "array([[ 0,  1,  2,  3],\n",
              "       [ 4,  5,  6,  7],\n",
              "       [ 8,  9, 10, 11]])"
            ]
          },
          "metadata": {},
          "execution_count": 83
        }
      ]
    },
    {
      "cell_type": "code",
      "source": [
        "# 사용하는 원소의 갯수가 정해져 있기 때문에\n",
        "# reshape 명령의 형태 튜플 원소 중 하나는 -1으로 대체 가능\n",
        "# -1을 넣으면 해당 숫자는 다른 값을 통해 계산되어서 사용\n",
        "a.reshape(3, -1) # len(a) / 입력한 값들을 나누기하고..남은 하나의 값 = -1"
      ],
      "metadata": {
        "colab": {
          "base_uri": "https://localhost:8080/"
        },
        "id": "SoT1e8pdzcWs",
        "outputId": "4cfd50fd-5fbd-40f1-c844-3d758206c664"
      },
      "execution_count": null,
      "outputs": [
        {
          "output_type": "execute_result",
          "data": {
            "text/plain": [
              "array([[ 0,  1,  2,  3],\n",
              "       [ 4,  5,  6,  7],\n",
              "       [ 8,  9, 10, 11]])"
            ]
          },
          "metadata": {},
          "execution_count": 78
        }
      ]
    },
    {
      "cell_type": "code",
      "source": [
        "# a.reshape(2, 2, 3)\n",
        "a.reshape(2, 2, -1)\n",
        "# a.reshape(2, 2, 4) # ValueError: cannot reshape array of size 12 into shape (2,2,4)"
      ],
      "metadata": {
        "colab": {
          "base_uri": "https://localhost:8080/"
        },
        "id": "Uhkgvho1zgPR",
        "outputId": "0e713c26-e9f1-4a52-fbc1-fd8b8ab59282"
      },
      "execution_count": null,
      "outputs": [
        {
          "output_type": "execute_result",
          "data": {
            "text/plain": [
              "array([[[ 0,  1,  2],\n",
              "        [ 3,  4,  5]],\n",
              "\n",
              "       [[ 6,  7,  8],\n",
              "        [ 9, 10, 11]]])"
            ]
          },
          "metadata": {},
          "execution_count": 82
        }
      ]
    },
    {
      "cell_type": "code",
      "source": [
        "a.reshape(2, -1, 2)"
      ],
      "metadata": {
        "colab": {
          "base_uri": "https://localhost:8080/"
        },
        "id": "qCXrkvAFzu03",
        "outputId": "73b9d04e-c617-49fc-a4f9-ecec67b3cbe2"
      },
      "execution_count": null,
      "outputs": [
        {
          "output_type": "execute_result",
          "data": {
            "text/plain": [
              "array([[[ 0,  1],\n",
              "        [ 2,  3],\n",
              "        [ 4,  5]],\n",
              "\n",
              "       [[ 6,  7],\n",
              "        [ 8,  9],\n",
              "        [10, 11]]])"
            ]
          },
          "metadata": {},
          "execution_count": 84
        }
      ]
    },
    {
      "cell_type": "markdown",
      "source": [
        "## 배열 평탄화 (`flatten`, `ravel`)\n",
        "* 다차원 배열을 1차원으로 변환"
      ],
      "metadata": {
        "id": "PSDbjEhezzIn"
      }
    },
    {
      "cell_type": "code",
      "source": [
        "a.reshape(-1) # , 없이 -1만 넣으면, 1줄로 펴버림"
      ],
      "metadata": {
        "colab": {
          "base_uri": "https://localhost:8080/"
        },
        "id": "tlgflVeczwYj",
        "outputId": "1b49abfc-7548-45e3-fdd0-240df27f23a0"
      },
      "execution_count": null,
      "outputs": [
        {
          "output_type": "execute_result",
          "data": {
            "text/plain": [
              "array([ 0,  1,  2,  3,  4,  5,  6,  7,  8,  9, 10, 11])"
            ]
          },
          "metadata": {},
          "execution_count": 85
        }
      ]
    },
    {
      "cell_type": "code",
      "source": [
        "a.flatten()"
      ],
      "metadata": {
        "colab": {
          "base_uri": "https://localhost:8080/"
        },
        "id": "b0C9rCOI0CDS",
        "outputId": "9f5049b4-056b-4712-ec70-c03b18eca73c"
      },
      "execution_count": null,
      "outputs": [
        {
          "output_type": "execute_result",
          "data": {
            "text/plain": [
              "array([ 0,  1,  2,  3,  4,  5,  6,  7,  8,  9, 10, 11])"
            ]
          },
          "metadata": {},
          "execution_count": 89
        }
      ]
    },
    {
      "cell_type": "code",
      "source": [
        "a.ravel()"
      ],
      "metadata": {
        "colab": {
          "base_uri": "https://localhost:8080/"
        },
        "id": "C2-voM7EiZaU",
        "outputId": "97f0ff6d-d6b9-4d6f-b181-3106fa5ff25b"
      },
      "execution_count": null,
      "outputs": [
        {
          "output_type": "execute_result",
          "data": {
            "text/plain": [
              "array([ 0,  1,  2,  3,  4,  5,  6,  7,  8,  9, 10, 11])"
            ]
          },
          "metadata": {},
          "execution_count": 90
        }
      ]
    },
    {
      "cell_type": "markdown",
      "source": [
        "## 같은 배열에 대해 차원만 1차원 증가 (`newaxis`)"
      ],
      "metadata": {
        "id": "co3lWwjG0RUW"
      }
    },
    {
      "cell_type": "code",
      "source": [
        "x = np.arange(5) # 1차원\n",
        "x, x.ndim, x.shape"
      ],
      "metadata": {
        "colab": {
          "base_uri": "https://localhost:8080/"
        },
        "id": "1JpVrcJQ0F7F",
        "outputId": "39d5efe0-511c-4772-b571-e8be8538076c"
      },
      "execution_count": null,
      "outputs": [
        {
          "output_type": "execute_result",
          "data": {
            "text/plain": [
              "(array([0, 1, 2, 3, 4]), 1, (5,))"
            ]
          },
          "metadata": {},
          "execution_count": 93
        }
      ]
    },
    {
      "cell_type": "code",
      "source": [
        "x2 = x[:, np.newaxis] # 열(세로) 축 증가\n",
        "x2, x2.ndim, x2.shape"
      ],
      "metadata": {
        "colab": {
          "base_uri": "https://localhost:8080/"
        },
        "id": "SiMgEQTEimMH",
        "outputId": "ae0534fe-41cc-4d8a-c0d0-e30809ce6095"
      },
      "execution_count": null,
      "outputs": [
        {
          "output_type": "execute_result",
          "data": {
            "text/plain": [
              "(array([[0],\n",
              "        [1],\n",
              "        [2],\n",
              "        [3],\n",
              "        [4]]),\n",
              " 2,\n",
              " (5, 1))"
            ]
          },
          "metadata": {},
          "execution_count": 95
        }
      ]
    },
    {
      "cell_type": "code",
      "source": [
        "x3 = x[np.newaxis, :] # 행(가로) 축 증가\n",
        "x3, x3.ndim, x3.shape"
      ],
      "metadata": {
        "colab": {
          "base_uri": "https://localhost:8080/"
        },
        "id": "dR56iOGMi7In",
        "outputId": "f28d69f8-82cb-496d-fe0a-ab4f0a1f6581"
      },
      "execution_count": null,
      "outputs": [
        {
          "output_type": "execute_result",
          "data": {
            "text/plain": [
              "(array([[0, 1, 2, 3, 4]]), 2, (1, 5))"
            ]
          },
          "metadata": {},
          "execution_count": 96
        }
      ]
    },
    {
      "cell_type": "markdown",
      "source": [
        "## 배열 연결\n",
        "* 행의 수나 열의 수가 같은 두 개 이상의 배열을 연결하여 더 큰 배열을 생성 (concatenate)\n",
        "    * `hstack`\n",
        "    * `vstack`\n",
        "    * `dstack`\n",
        "    * `stack`\n",
        "    * `r_`\n",
        "    * `c_`\n",
        "    * `tile`"
      ],
      "metadata": {
        "id": "Y6xhIji90nZP"
      }
    },
    {
      "cell_type": "markdown",
      "source": [
        "### `concatenate`"
      ],
      "metadata": {
        "id": "QaJc5TOmSJ9H"
      }
    },
    {
      "cell_type": "code",
      "source": [
        "arr1 = np.arange(1, 4)\n",
        "arr2 = np.arange(4, 7)\n",
        "print(arr1, arr2)\n",
        "np.concatenate([arr1, arr2]) # 시퀀스 형태로 (튜플이나 리스트로) 묶어서 넣어야함\n",
        "# np.concatenate(arr1, arr2) <- 에러"
      ],
      "metadata": {
        "colab": {
          "base_uri": "https://localhost:8080/"
        },
        "id": "S7QjoUvYSRsk",
        "outputId": "c4192574-4a5d-4995-f167-458743195c0c"
      },
      "execution_count": null,
      "outputs": [
        {
          "output_type": "stream",
          "name": "stdout",
          "text": [
            "[1 2 3] [4 5 6]\n"
          ]
        },
        {
          "output_type": "execute_result",
          "data": {
            "text/plain": [
              "array([1, 2, 3, 4, 5, 6])"
            ]
          },
          "metadata": {},
          "execution_count": 104
        }
      ]
    },
    {
      "cell_type": "code",
      "source": [
        "arr1 = arr1.reshape(3, 1)  # 행 3, 열 1\n",
        "arr2 = arr2.reshape(3, 1)  # 행 3, 열 1\n",
        "print(arr1, arr2)\n",
        "x1 = np.concatenate([arr1, arr2])  # => 행 6, 1\n",
        "x1, x1.shape\n",
        "x2 = np.concatenate([arr1, arr2], axis=1)  # axis=0(default) -> axis=1\n",
        "x2, x2.shape"
      ],
      "metadata": {
        "colab": {
          "base_uri": "https://localhost:8080/"
        },
        "id": "SjIavyosSTs7",
        "outputId": "a8676265-345b-4647-b64d-99ea5dd50d8f"
      },
      "execution_count": null,
      "outputs": [
        {
          "output_type": "stream",
          "name": "stdout",
          "text": [
            "[[1]\n",
            " [2]\n",
            " [3]] [[4]\n",
            " [5]\n",
            " [6]]\n"
          ]
        },
        {
          "output_type": "execute_result",
          "data": {
            "text/plain": [
              "(array([[1, 4],\n",
              "        [2, 5],\n",
              "        [3, 6]]),\n",
              " (3, 2))"
            ]
          },
          "metadata": {},
          "execution_count": 105
        }
      ]
    },
    {
      "cell_type": "markdown",
      "source": [
        "### `hstack`\n",
        "* 행의 수가 같은 두 개 이상의 배열을 옆으로 연결하여 열의 수가 더 많은 배열을 만듦\n",
        "* 연결할 배열은 하나의 리스트에 담아야 함"
      ],
      "metadata": {
        "id": "0nGLa9ps1AwQ"
      }
    },
    {
      "cell_type": "code",
      "source": [
        "a1 = np.ones((2, 3))\n",
        "a1"
      ],
      "metadata": {
        "colab": {
          "base_uri": "https://localhost:8080/"
        },
        "id": "-FzGefiM0YGS",
        "outputId": "aadf66e8-4487-410e-ac3d-0e84b9336662"
      },
      "execution_count": null,
      "outputs": [
        {
          "output_type": "execute_result",
          "data": {
            "text/plain": [
              "array([[1., 1., 1.],\n",
              "       [1., 1., 1.]])"
            ]
          },
          "metadata": {},
          "execution_count": 107
        }
      ]
    },
    {
      "cell_type": "code",
      "source": [
        "a2 = np.zeros((2, 2))  # a1 - a2 ? 행은 같고, 열이 다른 관계\n",
        "a2"
      ],
      "metadata": {
        "colab": {
          "base_uri": "https://localhost:8080/"
        },
        "id": "23pEgxUv1KHa",
        "outputId": "3b42ec87-5920-4ea7-a6c9-fcf93e6a6f8d"
      },
      "execution_count": null,
      "outputs": [
        {
          "output_type": "execute_result",
          "data": {
            "text/plain": [
              "array([[0., 0.],\n",
              "       [0., 0.]])"
            ]
          },
          "metadata": {},
          "execution_count": 111
        }
      ]
    },
    {
      "cell_type": "code",
      "source": [
        "ha = np.hstack((a1, a2)) # 행(axis=0)으로 합쳐서 열(axis=1) 증가함.\n",
        "ha, ha.shape # 2.3 / 2.2 => 2.5"
      ],
      "metadata": {
        "colab": {
          "base_uri": "https://localhost:8080/"
        },
        "id": "7N-xqDHclE7U",
        "outputId": "0e7d3791-dad5-48e3-9ed7-99c63d7f85c2"
      },
      "execution_count": null,
      "outputs": [
        {
          "output_type": "execute_result",
          "data": {
            "text/plain": [
              "(array([[1., 1., 1., 0., 0.],\n",
              "        [1., 1., 1., 0., 0.]]),\n",
              " (2, 5))"
            ]
          },
          "metadata": {},
          "execution_count": 113
        }
      ]
    },
    {
      "cell_type": "code",
      "source": [
        "np.concatenate((a1, a2), axis=1) # 열(axis=1)가 변화함, 행(axis=0)은 그대로"
      ],
      "metadata": {
        "colab": {
          "base_uri": "https://localhost:8080/"
        },
        "id": "ftO5j3Mh1Mf0",
        "outputId": "b0506907-f35b-47d7-fd68-4d9be22ebd30"
      },
      "execution_count": null,
      "outputs": [
        {
          "output_type": "execute_result",
          "data": {
            "text/plain": [
              "array([[1., 1., 1., 0., 0.],\n",
              "       [1., 1., 1., 0., 0.]])"
            ]
          },
          "metadata": {},
          "execution_count": 114
        }
      ]
    },
    {
      "cell_type": "markdown",
      "source": [
        "### `vstack`\n",
        "* 열의 수가 같은 두 개 이상의 배열을 위아래로 연결하여 행의 수가 더 많은 배열을 만듦\n",
        "* 연결할 배열은 하나의 리스트에 담아야 함"
      ],
      "metadata": {
        "id": "8H5ykHK01SMl"
      }
    },
    {
      "cell_type": "code",
      "source": [
        "# 위아래로 합침 행을 합침\n",
        "b1 = np.ones((2, 3)) # 행 2 열 3\n",
        "b1, b1.shape"
      ],
      "metadata": {
        "colab": {
          "base_uri": "https://localhost:8080/"
        },
        "id": "LQ1Oxc_Z1PUS",
        "outputId": "24a7a34c-f723-484f-9d39-ab337b2aef96"
      },
      "execution_count": null,
      "outputs": [
        {
          "output_type": "execute_result",
          "data": {
            "text/plain": [
              "(array([[1., 1., 1.],\n",
              "        [1., 1., 1.]]),\n",
              " (2, 3))"
            ]
          },
          "metadata": {},
          "execution_count": 116
        }
      ]
    },
    {
      "cell_type": "code",
      "source": [
        "b2 = np.zeros((3, 3)) # 행 3, 열 3\n",
        "b2, b2.shape"
      ],
      "metadata": {
        "colab": {
          "base_uri": "https://localhost:8080/"
        },
        "id": "Stzsez-s1abf",
        "outputId": "fcab220a-6ed4-46ca-b9b7-958fad077e89"
      },
      "execution_count": null,
      "outputs": [
        {
          "output_type": "execute_result",
          "data": {
            "text/plain": [
              "(array([[0., 0., 0.],\n",
              "        [0., 0., 0.],\n",
              "        [0., 0., 0.]]),\n",
              " (3, 3))"
            ]
          },
          "metadata": {},
          "execution_count": 124
        }
      ]
    },
    {
      "cell_type": "code",
      "source": [
        "vb = np.vstack([b1, b2]) # 열을 기준으로, 행이 합쳐짐(행이 늘어남) axis=0\n",
        "vb, vb.shape\n"
      ],
      "metadata": {
        "colab": {
          "base_uri": "https://localhost:8080/"
        },
        "id": "4vYmBLCp1dfB",
        "outputId": "22138299-e96f-4ed7-9cf4-21225f3c4e57"
      },
      "execution_count": null,
      "outputs": [
        {
          "output_type": "execute_result",
          "data": {
            "text/plain": [
              "(array([[0., 0., 0.],\n",
              "        [0., 0., 0.],\n",
              "        [0., 0., 0.],\n",
              "        [0., 0., 0.],\n",
              "        [0., 0., 0.]]),\n",
              " (5, 3))"
            ]
          },
          "metadata": {},
          "execution_count": 125
        }
      ]
    },
    {
      "cell_type": "code",
      "source": [
        "np.concatenate((b1, b2), axis=0) # 행(axis=0)이 변화함, 열(axis=1)은 그대로"
      ],
      "metadata": {
        "colab": {
          "base_uri": "https://localhost:8080/"
        },
        "id": "bZVSsWc2mYrT",
        "outputId": "7040e3f6-a1d6-48c5-9e33-69891dac6c99"
      },
      "execution_count": null,
      "outputs": [
        {
          "output_type": "execute_result",
          "data": {
            "text/plain": [
              "array([[0., 0., 0.],\n",
              "       [0., 0., 0.],\n",
              "       [0., 0., 0.],\n",
              "       [0., 0., 0.],\n",
              "       [0., 0., 0.]])"
            ]
          },
          "metadata": {},
          "execution_count": 126
        }
      ]
    },
    {
      "cell_type": "markdown",
      "source": [
        "horizontal -> 수평선 -> 가로 - <br>\n",
        "vertical -> 수직선 -> 세로 |"
      ],
      "metadata": {
        "id": "aTS7yKo6mxFi"
      }
    },
    {
      "cell_type": "markdown",
      "source": [
        "### `dstack`\n",
        "* 제3의 축 즉, 행이나 열이 아닌 깊이(depth) 방향으로 배열을 합침\n",
        "* 가장 안쪽의 원소의 차원이 증가, 즉 가장 내부의 숫자 원소가 배열이 됨"
      ],
      "metadata": {
        "id": "nKMjnYqZ2z3V"
      }
    },
    {
      "cell_type": "code",
      "source": [
        "c1 = np.ones((3, 4))\n",
        "c1, c1.shape"
      ],
      "metadata": {
        "colab": {
          "base_uri": "https://localhost:8080/"
        },
        "id": "WZ6KzYiZ1fHY",
        "outputId": "14a9f3e4-5ea5-49a5-f183-c3c21af4f58f"
      },
      "execution_count": null,
      "outputs": [
        {
          "output_type": "execute_result",
          "data": {
            "text/plain": [
              "(array([[1., 1., 1., 1.],\n",
              "        [1., 1., 1., 1.],\n",
              "        [1., 1., 1., 1.]]),\n",
              " (3, 4))"
            ]
          },
          "metadata": {},
          "execution_count": 127
        }
      ]
    },
    {
      "cell_type": "code",
      "source": [
        "c2 = np.zeros_like(c1)\n",
        "c2, c2.shape"
      ],
      "metadata": {
        "colab": {
          "base_uri": "https://localhost:8080/"
        },
        "id": "QviPJ-Gg28yI",
        "outputId": "b6558a98-a881-45ca-804f-e680e0bc086b"
      },
      "execution_count": null,
      "outputs": [
        {
          "output_type": "execute_result",
          "data": {
            "text/plain": [
              "(array([[0., 0., 0., 0.],\n",
              "        [0., 0., 0., 0.],\n",
              "        [0., 0., 0., 0.]]),\n",
              " (3, 4))"
            ]
          },
          "metadata": {},
          "execution_count": 136
        }
      ]
    },
    {
      "cell_type": "code",
      "source": [
        "dc = np.dstack((c1, c2))\n",
        "dc, dc.ndim, dc.shape"
      ],
      "metadata": {
        "colab": {
          "base_uri": "https://localhost:8080/"
        },
        "id": "ad93JhnI2_5H",
        "outputId": "52524b73-59c8-431f-c131-c8c61ee0a83b"
      },
      "execution_count": null,
      "outputs": [
        {
          "output_type": "execute_result",
          "data": {
            "text/plain": [
              "(array([[[1., 0.],\n",
              "         [1., 0.],\n",
              "         [1., 0.],\n",
              "         [1., 0.]],\n",
              " \n",
              "        [[1., 0.],\n",
              "         [1., 0.],\n",
              "         [1., 0.],\n",
              "         [1., 0.]],\n",
              " \n",
              "        [[1., 0.],\n",
              "         [1., 0.],\n",
              "         [1., 0.],\n",
              "         [1., 0.]]]),\n",
              " 3,\n",
              " (3, 4, 2))"
            ]
          },
          "metadata": {},
          "execution_count": 135
        }
      ]
    },
    {
      "cell_type": "code",
      "source": [
        "# np.concatenate((c1, c2), axis=2) # 차원을 증가하면서 합칠수 없다. AxisError\n",
        "# np.concatenate((c1[:,:,np.newaxis], c2), axis=2) ?"
      ],
      "metadata": {
        "colab": {
          "base_uri": "https://localhost:8080/",
          "height": 263
        },
        "id": "kNI95R_K3CwY",
        "outputId": "7afab22c-0d9c-4e0e-b282-94d73df64780"
      },
      "execution_count": null,
      "outputs": [
        {
          "output_type": "error",
          "ename": "ValueError",
          "evalue": "ignored",
          "traceback": [
            "\u001b[0;31m---------------------------------------------------------------------------\u001b[0m",
            "\u001b[0;31mValueError\u001b[0m                                Traceback (most recent call last)",
            "\u001b[0;32m<ipython-input-134-a14c41c36bc9>\u001b[0m in \u001b[0;36m<cell line: 2>\u001b[0;34m()\u001b[0m\n\u001b[1;32m      1\u001b[0m \u001b[0;31m# np.concatenate((c1, c2), axis=2) # 차원을 증가하면서 합칠수 없다. AxisError\u001b[0m\u001b[0;34m\u001b[0m\u001b[0;34m\u001b[0m\u001b[0m\n\u001b[0;32m----> 2\u001b[0;31m \u001b[0mnp\u001b[0m\u001b[0;34m.\u001b[0m\u001b[0mconcatenate\u001b[0m\u001b[0;34m(\u001b[0m\u001b[0;34m(\u001b[0m\u001b[0mc1\u001b[0m\u001b[0;34m[\u001b[0m\u001b[0;34m:\u001b[0m\u001b[0;34m,\u001b[0m\u001b[0;34m:\u001b[0m\u001b[0;34m,\u001b[0m\u001b[0mnp\u001b[0m\u001b[0;34m.\u001b[0m\u001b[0mnewaxis\u001b[0m\u001b[0;34m]\u001b[0m\u001b[0;34m,\u001b[0m \u001b[0mc2\u001b[0m\u001b[0;34m)\u001b[0m\u001b[0;34m,\u001b[0m \u001b[0maxis\u001b[0m\u001b[0;34m=\u001b[0m\u001b[0;36m2\u001b[0m\u001b[0;34m)\u001b[0m\u001b[0;34m\u001b[0m\u001b[0;34m\u001b[0m\u001b[0m\n\u001b[0m",
            "\u001b[0;32m/usr/local/lib/python3.10/dist-packages/numpy/core/overrides.py\u001b[0m in \u001b[0;36mconcatenate\u001b[0;34m(*args, **kwargs)\u001b[0m\n",
            "\u001b[0;31mValueError\u001b[0m: all the input arrays must have same number of dimensions, but the array at index 0 has 3 dimension(s) and the array at index 1 has 2 dimension(s)"
          ]
        }
      ]
    },
    {
      "cell_type": "markdown",
      "source": [
        "### `stack`\n",
        "* `dstack`의 기능을 확장한 것으로 `dstack`처럼 마지막 차원으로 연결하는 것이 아니라 사용자가 지정한 차원(축으로) 배열을 연결\n",
        "* axis 인수(디폴트 0)를 사용하여 연결후의 회전 방향을 정함\n",
        "* 디폴트 인수값은 0이고 가장 앞쪽에 차원이 생성. 즉, 배열 두 개가 겹치게 되므로 연결하고자 하는 배열들의 크기가 모두 같아야 함"
      ],
      "metadata": {
        "id": "yEWdCKLX3I3h"
      }
    },
    {
      "cell_type": "code",
      "source": [
        "c = np.stack([c1, c2]) # axis <- 가장 밖의 차원\n",
        "c, c.ndim, c.shape"
      ],
      "metadata": {
        "colab": {
          "base_uri": "https://localhost:8080/"
        },
        "id": "ZjoHjPm_3GPQ",
        "outputId": "7b2dfc57-6874-4168-9ee4-4868eadd4ca9"
      },
      "execution_count": null,
      "outputs": [
        {
          "output_type": "execute_result",
          "data": {
            "text/plain": [
              "(array([[[1., 1., 1., 1.],\n",
              "         [1., 1., 1., 1.],\n",
              "         [1., 1., 1., 1.]],\n",
              " \n",
              "        [[0., 0., 0., 0.],\n",
              "         [0., 0., 0., 0.],\n",
              "         [0., 0., 0., 0.]]]),\n",
              " 3,\n",
              " (2, 3, 4))"
            ]
          },
          "metadata": {},
          "execution_count": 137
        }
      ]
    },
    {
      "cell_type": "code",
      "source": [
        "c = np.stack([c1, c2], axis=1) # dstack 이랑 같음\n",
        "c, c.ndim, c.shape"
      ],
      "metadata": {
        "colab": {
          "base_uri": "https://localhost:8080/"
        },
        "id": "HAn0Uatn3XYH",
        "outputId": "9a371505-f911-454a-a7f1-d8aa833fd38f"
      },
      "execution_count": null,
      "outputs": [
        {
          "output_type": "execute_result",
          "data": {
            "text/plain": [
              "(array([[[1., 1., 1., 1.],\n",
              "         [0., 0., 0., 0.]],\n",
              " \n",
              "        [[1., 1., 1., 1.],\n",
              "         [0., 0., 0., 0.]],\n",
              " \n",
              "        [[1., 1., 1., 1.],\n",
              "         [0., 0., 0., 0.]]]),\n",
              " 3,\n",
              " (3, 2, 4))"
            ]
          },
          "metadata": {},
          "execution_count": 138
        }
      ]
    },
    {
      "cell_type": "markdown",
      "source": [
        "* `axis` 인수가 1이면 두번째 차원으로 새로운 차원이 삽입"
      ],
      "metadata": {
        "id": "uT0Z7jm83gnq"
      }
    },
    {
      "cell_type": "markdown",
      "source": [
        "### `r_`\n",
        "* `hstack` 명령과 비슷하게 배열을 좌우로 연결\n",
        "* 다만 메서드임에도 불구하고 소괄호(parenthesis, `()`)를 사용하지 않고 인덱싱과 같이 대괄호(bracket, `[]`)를 사용\n",
        "* 이런 특수 메서드를 인덱서(indexer)라고 함"
      ],
      "metadata": {
        "id": "gVqKyGhz3pjP"
      }
    },
    {
      "cell_type": "code",
      "source": [
        "# row : 행\n",
        "np.r_[np.arange(1, 4), np.arange(4, 7)] # ()X D\n",
        "np.r_[np.arange(1, 4), np.arange(4, 7),  np.arange(7, 10)] # ()X D"
      ],
      "metadata": {
        "colab": {
          "base_uri": "https://localhost:8080/"
        },
        "id": "aBl9es9C33Up",
        "outputId": "2545da33-f534-4986-d36d-d55f5dfde5b4"
      },
      "execution_count": null,
      "outputs": [
        {
          "output_type": "execute_result",
          "data": {
            "text/plain": [
              "array([1, 2, 3, 4, 5, 6, 7, 8, 9])"
            ]
          },
          "metadata": {},
          "execution_count": 142
        }
      ]
    },
    {
      "cell_type": "code",
      "source": [
        "# row : 행\n",
        "print(np.r_[np.arange(1, 4), np.arange(4, 7)])\n",
        "print(np.r_[np.arange(1, 4), np.arange(4, 7), np.arange(7, 10)])"
      ],
      "metadata": {
        "colab": {
          "base_uri": "https://localhost:8080/"
        },
        "id": "wCP5bDYhpflP",
        "outputId": "2721bd09-b3d1-4483-9b83-0ded8c6c2b16"
      },
      "execution_count": null,
      "outputs": [
        {
          "output_type": "stream",
          "name": "stdout",
          "text": [
            "[1 2 3 4 5 6]\n",
            "[1 2 3 4 5 6 7 8 9]\n"
          ]
        }
      ]
    },
    {
      "cell_type": "code",
      "source": [
        "print(np.arange(1, 5).reshape(2, -1))\n",
        "print(np.arange(4, 8).reshape(2, -1))\n",
        "np.r_[np.arange(1, 5).reshape(2, -1), np.arange(4, 8).reshape(2, -1)] # 하나의 열로 합침"
      ],
      "metadata": {
        "colab": {
          "base_uri": "https://localhost:8080/"
        },
        "id": "6MksLAfopzxu",
        "outputId": "e8f658de-659c-4e62-b3dd-150f7078b1cb"
      },
      "execution_count": null,
      "outputs": [
        {
          "output_type": "stream",
          "name": "stdout",
          "text": [
            "[[1 2]\n",
            " [3 4]]\n",
            "[[4 5]\n",
            " [6 7]]\n"
          ]
        },
        {
          "output_type": "execute_result",
          "data": {
            "text/plain": [
              "array([[1, 2],\n",
              "       [3, 4],\n",
              "       [4, 5],\n",
              "       [6, 7]])"
            ]
          },
          "metadata": {},
          "execution_count": 145
        }
      ]
    },
    {
      "cell_type": "markdown",
      "source": [
        "### `c_`\n",
        "* 배열의 차원을 증가시킨 후 좌우로 연결"
      ],
      "metadata": {
        "id": "8vwTXWOH36Wr"
      }
    },
    {
      "cell_type": "code",
      "source": [
        "# column - 열 -> 새롭게 열을 늘리면서 합쳐짐.\n",
        "np.c_[np.arange(1, 4), np.arange(4, 7)]  # newaxis -> hstack"
      ],
      "metadata": {
        "colab": {
          "base_uri": "https://localhost:8080/"
        },
        "id": "Q04oM6d8358d",
        "outputId": "4bb7ba55-536a-40fa-91dc-43c3e7acb9d8"
      },
      "execution_count": null,
      "outputs": [
        {
          "output_type": "execute_result",
          "data": {
            "text/plain": [
              "array([[1, 4],\n",
              "       [2, 5],\n",
              "       [3, 6]])"
            ]
          },
          "metadata": {},
          "execution_count": 146
        }
      ]
    },
    {
      "cell_type": "markdown",
      "source": [
        "### `tile`\n",
        "* 동일한 배열을 반복하여 연결"
      ],
      "metadata": {
        "id": "FjwjeIjD4CVt"
      }
    },
    {
      "cell_type": "code",
      "source": [
        "a = np.arange(6).reshape(2, -1)\n",
        "a, a.ndim, a.shape"
      ],
      "metadata": {
        "colab": {
          "base_uri": "https://localhost:8080/"
        },
        "id": "s9J7Rlzk4Adf",
        "outputId": "e80bff4e-278a-45b2-e357-19b2c60b2dd4"
      },
      "execution_count": null,
      "outputs": [
        {
          "output_type": "execute_result",
          "data": {
            "text/plain": [
              "(array([[0, 1, 2],\n",
              "        [3, 4, 5]]),\n",
              " 2,\n",
              " (2, 3))"
            ]
          },
          "metadata": {},
          "execution_count": 147
        }
      ]
    },
    {
      "cell_type": "code",
      "source": [
        "np.tile(a, 2) # hstack 열을 늘리는 방향"
      ],
      "metadata": {
        "colab": {
          "base_uri": "https://localhost:8080/"
        },
        "id": "9fvArJ-x33q_",
        "outputId": "2e6ab737-3215-4403-9ba1-bc0e7896148a"
      },
      "execution_count": null,
      "outputs": [
        {
          "output_type": "execute_result",
          "data": {
            "text/plain": [
              "array([[0, 1, 2, 0, 1, 2],\n",
              "       [3, 4, 5, 3, 4, 5]])"
            ]
          },
          "metadata": {},
          "execution_count": 149
        }
      ]
    },
    {
      "cell_type": "code",
      "source": [
        "np.tile(3, 2) # (vstack, hstack 개념으로 늘리는 방향)"
      ],
      "metadata": {
        "id": "hF-DG3kbqVT8"
      },
      "execution_count": null,
      "outputs": []
    },
    {
      "cell_type": "markdown",
      "source": [
        "## 💡 연습문제 4\n",
        "```\n",
        "array([[  0.,   0.,   0.,   1.,   1.],\n",
        "       [  0.,   0.,   0.,   1.,   1.],\n",
        "       [  0.,   0.,   0.,   1.,   1.],\n",
        "       [ 10.,  20.,  30.,  40.,  50.],\n",
        "       [ 60.,  70.,  80.,  90., 100.],\n",
        "       [110., 120., 130., 140., 150.],\n",
        "       [  0.,   0.,   0.,   1.,   1.],\n",
        "       [  0.,   0.,   0.,   1.,   1.],\n",
        "       [  0.,   0.,   0.,   1.,   1.],\n",
        "       [ 10.,  20.,  30.,  40.,  50.],\n",
        "       [ 60.,  70.,  80.,  90., 100.],\n",
        "       [110., 120., 130., 140., 150.]])\n",
        "```"
      ],
      "metadata": {
        "id": "dmnK-qmS4WI7"
      }
    },
    {
      "cell_type": "markdown",
      "source": [],
      "metadata": {
        "id": "723h2gFGqmFT"
      }
    },
    {
      "cell_type": "code",
      "source": [],
      "metadata": {
        "colab": {
          "base_uri": "https://localhost:8080/"
        },
        "outputId": "ec582211-66be-4a88-a9bb-69def339f7ec",
        "id": "qwOGirhLr9R5"
      },
      "execution_count": null,
      "outputs": [
        {
          "output_type": "execute_result",
          "data": {
            "text/plain": [
              "array([0., 0., 0.], dtype=float32)"
            ]
          },
          "metadata": {},
          "execution_count": 193
        }
      ]
    },
    {
      "cell_type": "code",
      "source": [],
      "metadata": {
        "colab": {
          "base_uri": "https://localhost:8080/"
        },
        "outputId": "6a120209-dcdf-4ca3-c159-8e2e8b44445f",
        "id": "lcOh0R0Nr9SA"
      },
      "execution_count": null,
      "outputs": [
        {
          "output_type": "execute_result",
          "data": {
            "text/plain": [
              "array([1., 1.], dtype=float32)"
            ]
          },
          "metadata": {},
          "execution_count": 194
        }
      ]
    },
    {
      "cell_type": "code",
      "source": [],
      "metadata": {
        "colab": {
          "base_uri": "https://localhost:8080/"
        },
        "outputId": "18c8b833-f288-4d13-94b3-83e684ae2fee",
        "id": "hEAyWG5xr9SA"
      },
      "execution_count": null,
      "outputs": [
        {
          "output_type": "execute_result",
          "data": {
            "text/plain": [
              "array([0., 0., 0., 1., 1.], dtype=float32)"
            ]
          },
          "metadata": {},
          "execution_count": 195
        }
      ]
    },
    {
      "cell_type": "code",
      "source": [],
      "metadata": {
        "colab": {
          "base_uri": "https://localhost:8080/"
        },
        "outputId": "681b0c7e-aa1e-41cd-e374-58e88789565c",
        "id": "Wlf2bTsgr9SB"
      },
      "execution_count": null,
      "outputs": [
        {
          "output_type": "execute_result",
          "data": {
            "text/plain": [
              "array([[0., 0., 0., 1., 1.],\n",
              "       [0., 0., 0., 1., 1.],\n",
              "       [0., 0., 0., 1., 1.]], dtype=float32)"
            ]
          },
          "metadata": {},
          "execution_count": 206
        }
      ]
    },
    {
      "cell_type": "code",
      "source": [],
      "metadata": {
        "colab": {
          "base_uri": "https://localhost:8080/"
        },
        "outputId": "e33f97b1-dbed-4529-a2d4-72e77bce749e",
        "id": "Oj9XnoWmr9SB"
      },
      "execution_count": null,
      "outputs": [
        {
          "output_type": "execute_result",
          "data": {
            "text/plain": [
              "array([ 10.,  20.,  30.,  40.,  50.,  60.,  70.,  80.,  90., 100., 110.,\n",
              "       120., 130., 140., 150.], dtype=float32)"
            ]
          },
          "metadata": {},
          "execution_count": 207
        }
      ]
    },
    {
      "cell_type": "code",
      "source": [],
      "metadata": {
        "colab": {
          "base_uri": "https://localhost:8080/"
        },
        "outputId": "60e3c8a1-da1e-47c1-df6e-f38a2388d4f7",
        "id": "zq_qsX-Tr9SB"
      },
      "execution_count": null,
      "outputs": [
        {
          "output_type": "execute_result",
          "data": {
            "text/plain": [
              "array([[ 10.,  20.,  30.,  40.,  50.],\n",
              "       [ 60.,  70.,  80.,  90., 100.],\n",
              "       [110., 120., 130., 140., 150.]], dtype=float32)"
            ]
          },
          "metadata": {},
          "execution_count": 208
        }
      ]
    },
    {
      "cell_type": "code",
      "source": [],
      "metadata": {
        "colab": {
          "base_uri": "https://localhost:8080/"
        },
        "outputId": "c5b588b8-e84e-4e36-a437-805f57097a1e",
        "id": "kfazzJlVr9SB"
      },
      "execution_count": null,
      "outputs": [
        {
          "output_type": "execute_result",
          "data": {
            "text/plain": [
              "array([[  0.,   0.,   0.,   1.,   1.],\n",
              "       [  0.,   0.,   0.,   1.,   1.],\n",
              "       [  0.,   0.,   0.,   1.,   1.],\n",
              "       [ 10.,  20.,  30.,  40.,  50.],\n",
              "       [ 60.,  70.,  80.,  90., 100.],\n",
              "       [110., 120., 130., 140., 150.]], dtype=float32)"
            ]
          },
          "metadata": {},
          "execution_count": 210
        }
      ]
    },
    {
      "cell_type": "code",
      "source": [],
      "metadata": {
        "colab": {
          "base_uri": "https://localhost:8080/"
        },
        "outputId": "02276ebc-f785-41be-ec00-770b4c2f1e82",
        "id": "Q0GAa_5lr9SB"
      },
      "execution_count": null,
      "outputs": [
        {
          "output_type": "execute_result",
          "data": {
            "text/plain": [
              "array([[  0.,   0.,   0.,   1.,   1.],\n",
              "       [  0.,   0.,   0.,   1.,   1.],\n",
              "       [  0.,   0.,   0.,   1.,   1.],\n",
              "       [ 10.,  20.,  30.,  40.,  50.],\n",
              "       [ 60.,  70.,  80.,  90., 100.],\n",
              "       [110., 120., 130., 140., 150.],\n",
              "       [  0.,   0.,   0.,   1.,   1.],\n",
              "       [  0.,   0.,   0.,   1.,   1.],\n",
              "       [  0.,   0.,   0.,   1.,   1.],\n",
              "       [ 10.,  20.,  30.,  40.,  50.],\n",
              "       [ 60.,  70.,  80.,  90., 100.],\n",
              "       [110., 120., 130., 140., 150.]], dtype=float32)"
            ]
          },
          "metadata": {},
          "execution_count": 212
        }
      ]
    },
    {
      "cell_type": "markdown",
      "source": [
        "## 배열 분할"
      ],
      "metadata": {
        "id": "em-51SHsSbTk"
      }
    },
    {
      "cell_type": "code",
      "source": [
        "arr = np.arange(1, 7)\n",
        "arr"
      ],
      "metadata": {
        "id": "uk4PAWmrSazs",
        "colab": {
          "base_uri": "https://localhost:8080/"
        },
        "outputId": "33c36db8-f888-4721-b601-ce704028c29f"
      },
      "execution_count": 152,
      "outputs": [
        {
          "output_type": "execute_result",
          "data": {
            "text/plain": [
              "array([1, 2, 3, 4, 5, 6])"
            ]
          },
          "metadata": {},
          "execution_count": 152
        }
      ]
    },
    {
      "cell_type": "code",
      "source": [
        "newarr = np.array_split(arr, 3)\n",
        "newarr"
      ],
      "metadata": {
        "id": "xNg4hpOhSlsK",
        "colab": {
          "base_uri": "https://localhost:8080/"
        },
        "outputId": "bb30052a-3e26-44e6-81ed-85aaf7e1168e"
      },
      "execution_count": 154,
      "outputs": [
        {
          "output_type": "execute_result",
          "data": {
            "text/plain": [
              "[array([1, 2]), array([3, 4]), array([5, 6])]"
            ]
          },
          "metadata": {},
          "execution_count": 154
        }
      ]
    },
    {
      "cell_type": "code",
      "source": [
        "np.split(arr, 3) # alias -> array_split => split"
      ],
      "metadata": {
        "colab": {
          "base_uri": "https://localhost:8080/"
        },
        "id": "q1-5sqLFrGFD",
        "outputId": "7efa7b6b-f6cb-4c19-ba23-ca0d6cd284a7"
      },
      "execution_count": 156,
      "outputs": [
        {
          "output_type": "execute_result",
          "data": {
            "text/plain": [
              "[array([1, 2]), array([3, 4]), array([5, 6])]"
            ]
          },
          "metadata": {},
          "execution_count": 156
        }
      ]
    },
    {
      "cell_type": "code",
      "source": [
        "arr = np.arange(1, 19).reshape(-1, 3)\n",
        "arr"
      ],
      "metadata": {
        "colab": {
          "base_uri": "https://localhost:8080/"
        },
        "id": "JJUO89qvrHtG",
        "outputId": "03a72662-21ee-42a0-85a2-d32c0b11707e"
      },
      "execution_count": 157,
      "outputs": [
        {
          "output_type": "execute_result",
          "data": {
            "text/plain": [
              "array([[ 1,  2,  3],\n",
              "       [ 4,  5,  6],\n",
              "       [ 7,  8,  9],\n",
              "       [10, 11, 12],\n",
              "       [13, 14, 15],\n",
              "       [16, 17, 18]])"
            ]
          },
          "metadata": {},
          "execution_count": 157
        }
      ]
    },
    {
      "cell_type": "code",
      "source": [
        "np.split(arr, 3) # axis=0 => 행 기준으로"
      ],
      "metadata": {
        "colab": {
          "base_uri": "https://localhost:8080/"
        },
        "id": "bgIT9BL2rQeJ",
        "outputId": "e9028708-7dc9-41a5-b428-114aa2b15b8c"
      },
      "execution_count": 160,
      "outputs": [
        {
          "output_type": "execute_result",
          "data": {
            "text/plain": [
              "[array([[1, 2, 3],\n",
              "        [4, 5, 6]]),\n",
              " array([[ 7,  8,  9],\n",
              "        [10, 11, 12]]),\n",
              " array([[13, 14, 15],\n",
              "        [16, 17, 18]])]"
            ]
          },
          "metadata": {},
          "execution_count": 160
        }
      ]
    },
    {
      "cell_type": "code",
      "source": [
        "np.split(arr, 3, axis=1)"
      ],
      "metadata": {
        "colab": {
          "base_uri": "https://localhost:8080/"
        },
        "id": "Nu8RRMtzrbOE",
        "outputId": "210e4a4d-a85b-474d-b5d9-653f01c9b64a"
      },
      "execution_count": 161,
      "outputs": [
        {
          "output_type": "execute_result",
          "data": {
            "text/plain": [
              "[array([[ 1],\n",
              "        [ 4],\n",
              "        [ 7],\n",
              "        [10],\n",
              "        [13],\n",
              "        [16]]),\n",
              " array([[ 2],\n",
              "        [ 5],\n",
              "        [ 8],\n",
              "        [11],\n",
              "        [14],\n",
              "        [17]]),\n",
              " array([[ 3],\n",
              "        [ 6],\n",
              "        [ 9],\n",
              "        [12],\n",
              "        [15],\n",
              "        [18]])]"
            ]
          },
          "metadata": {},
          "execution_count": 161
        }
      ]
    }
  ]
}