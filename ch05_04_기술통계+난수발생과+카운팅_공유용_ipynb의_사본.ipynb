{
  "nbformat": 4,
  "nbformat_minor": 0,
  "metadata": {
    "colab": {
      "provenance": [],
      "include_colab_link": true
    },
    "kernelspec": {
      "name": "python3",
      "display_name": "Python 3"
    },
    "language_info": {
      "name": "python"
    }
  },
  "cells": [
    {
      "cell_type": "markdown",
      "metadata": {
        "id": "view-in-github",
        "colab_type": "text"
      },
      "source": [
        "<a href=\"https://colab.research.google.com/github/Chong5084/Colab_Note/blob/main/ch05_04_%EA%B8%B0%EC%88%A0%ED%86%B5%EA%B3%84%2B%EB%82%9C%EC%88%98%EB%B0%9C%EC%83%9D%EA%B3%BC%2B%EC%B9%B4%EC%9A%B4%ED%8C%85_%EA%B3%B5%EC%9C%A0%EC%9A%A9_ipynb%EC%9D%98_%EC%82%AC%EB%B3%B8.ipynb\" target=\"_parent\"><img src=\"https://colab.research.google.com/assets/colab-badge.svg\" alt=\"Open In Colab\"/></a>"
      ]
    },
    {
      "cell_type": "markdown",
      "source": [
        "# 기술 통계"
      ],
      "metadata": {
        "id": "tqxkhX-JFimj"
      }
    },
    {
      "cell_type": "markdown",
      "source": [
        "[링크 텍스트](https://)## 기술 통계(descriptive statistics)\n",
        "> 데이터 집합에 대해 통계를 계산\n",
        "* 데이터의 개수(count)\n",
        "* 평균(mean, average)\n",
        "* 분산(variance)\n",
        "* 표준 편차(standard deviation)\n",
        "* 최댓값(maximum)\n",
        "* 최솟값(minimum)\n",
        "* 중앙값(median)\n",
        "* 사분위수(quartile)"
      ],
      "metadata": {
        "id": "gchQwkseFsUX"
      }
    },
    {
      "cell_type": "code",
      "source": [
        "import numpy as np"
      ],
      "metadata": {
        "id": "jttHEMK4F9XX"
      },
      "execution_count": 3,
      "outputs": []
    },
    {
      "cell_type": "code",
      "source": [
        "x = np.array([\n",
        "    18, 5, 10, 23, 19, -8, 10, 0, 0, 5, 2, 15, 8,\n",
        "    2, 5, 4, 15, -1, 4, -7, -24, 7, 9, -6, 23, -13\n",
        "])\n",
        "x"
      ],
      "metadata": {
        "colab": {
          "base_uri": "https://localhost:8080/"
        },
        "id": "3oURsexjNbwm",
        "outputId": "0915b876-4cad-479a-af18-aedd3a788647"
      },
      "execution_count": 107,
      "outputs": [
        {
          "output_type": "execute_result",
          "data": {
            "text/plain": [
              "array([ 18,   5,  10,  23,  19,  -8,  10,   0,   0,   5,   2,  15,   8,\n",
              "         2,   5,   4,  15,  -1,   4,  -7, -24,   7,   9,  -6,  23, -13])"
            ]
          },
          "metadata": {},
          "execution_count": 107
        }
      ]
    },
    {
      "cell_type": "markdown",
      "source": [
        "## 데이터의 개수"
      ],
      "metadata": {
        "id": "5bzioyHoF557"
      }
    },
    {
      "cell_type": "code",
      "source": [
        "len(x)"
      ],
      "metadata": {
        "colab": {
          "base_uri": "https://localhost:8080/"
        },
        "id": "wlTrzCbKFl4j",
        "outputId": "87f24c23-9c47-42d8-ee99-d03ff39f27f1"
      },
      "execution_count": 5,
      "outputs": [
        {
          "output_type": "execute_result",
          "data": {
            "text/plain": [
              "26"
            ]
          },
          "metadata": {},
          "execution_count": 5
        }
      ]
    },
    {
      "cell_type": "markdown",
      "source": [
        "## 표본 평균\n",
        "* 우리가 일반적으로 아는 평균\n",
        "* 통계용어로는 표본 평균(sample average, sample mean)\n",
        "<br>\n",
        "$\n",
        "\\bar{x} = \\frac{1}{N}\\displaystyle\\sum_{i=1}^{N}{x_i}\n",
        "$\n",
        "(𝑁은 데이터의 개수)"
      ],
      "metadata": {
        "id": "3xe5u1nkGBgM"
      }
    },
    {
      "cell_type": "code",
      "source": [
        "np.mean(x), x.mean()"
      ],
      "metadata": {
        "colab": {
          "base_uri": "https://localhost:8080/"
        },
        "id": "SiQn6qJlF_Y_",
        "outputId": "1721dcde-9be6-41a2-8cde-ea798f31f5ee"
      },
      "execution_count": 9,
      "outputs": [
        {
          "output_type": "execute_result",
          "data": {
            "text/plain": [
              "(4.8076923076923075, 4.8076923076923075)"
            ]
          },
          "metadata": {},
          "execution_count": 9
        }
      ]
    },
    {
      "cell_type": "markdown",
      "source": [
        "## 표본 분산\n",
        "* 표본 분산(sample variance) : 데이터와 표본 평균간의 거리의 제곱의 평균\n",
        "* 표본 분산이 작으면 데이터가 모여있는 것이고 크면 흩어져 있는 것\n",
        "<br>\n",
        "$\n",
        "s^2 = \\frac{1}{N}\\displaystyle\\sum_{i=1}^{N}{(x_i-\\bar{x})^2}\n",
        "$"
      ],
      "metadata": {
        "id": "sMmBl-uLHWwF"
      }
    },
    {
      "cell_type": "code",
      "source": [
        "#차이를 제곱한것\n",
        "np.var(x), x.var()"
      ],
      "metadata": {
        "colab": {
          "base_uri": "https://localhost:8080/"
        },
        "id": "ukbJg498HWZG",
        "outputId": "a55efa25-f037-4fdd-a396-0ab2d3f54528"
      },
      "execution_count": 12,
      "outputs": [
        {
          "output_type": "execute_result",
          "data": {
            "text/plain": [
              "(115.23224852071006, 115.23224852071006)"
            ]
          },
          "metadata": {},
          "execution_count": 12
        }
      ]
    },
    {
      "cell_type": "markdown",
      "source": [
        "## 표본 표준편차\n",
        "* 표본 표준편차(sample standard variance) : 표본 분산의 양의 제곱근 값\n",
        "<br>\n",
        "$\n",
        "s = \\sqrt{s^2}\n",
        "$"
      ],
      "metadata": {
        "id": "ox3H6KB8H4Hd"
      }
    },
    {
      "cell_type": "code",
      "source": [
        "np.std(x), x.std()"
      ],
      "metadata": {
        "colab": {
          "base_uri": "https://localhost:8080/"
        },
        "id": "ESjtI9K9HP8g",
        "outputId": "657faf83-e410-4c75-e956-7303f2cfcdea"
      },
      "execution_count": 14,
      "outputs": [
        {
          "output_type": "execute_result",
          "data": {
            "text/plain": [
              "(10.734628476137871, 10.734628476137871)"
            ]
          },
          "metadata": {},
          "execution_count": 14
        }
      ]
    },
    {
      "cell_type": "markdown",
      "source": [
        "## 최댓값과 최솟값"
      ],
      "metadata": {
        "id": "68MH4LSRINEC"
      }
    },
    {
      "cell_type": "code",
      "source": [
        "# 최댓값 (maximum) / 최솟값 (minimum)\n",
        "np.max(x), x.min()"
      ],
      "metadata": {
        "colab": {
          "base_uri": "https://localhost:8080/"
        },
        "id": "E-KkdiALIPvE",
        "outputId": "4d0b14b2-5b9c-46eb-e574-4a36b40677ab"
      },
      "execution_count": 15,
      "outputs": [
        {
          "output_type": "execute_result",
          "data": {
            "text/plain": [
              "(23, -24)"
            ]
          },
          "metadata": {},
          "execution_count": 15
        }
      ]
    },
    {
      "cell_type": "markdown",
      "source": [
        "## 중앙값\n",
        "* 중앙값(median) : 데이터를 크기대로 정렬하였을 때 가장 가운데에 있는 수\n",
        "* 만약 데이터의 수가 짝수이면 가장 가운데에 있는 두 수의 평균을 사용\n"
      ],
      "metadata": {
        "id": "vGgHFClPIWQV"
      }
    },
    {
      "cell_type": "code",
      "source": [
        "np.median(x) # 내장된 메소드 없음 x.median()"
      ],
      "metadata": {
        "colab": {
          "base_uri": "https://localhost:8080/"
        },
        "id": "LS2P0zPnIUvN",
        "outputId": "48c0005c-bdf8-4fa2-feb2-4218ee060c5f"
      },
      "execution_count": null,
      "outputs": [
        {
          "output_type": "execute_result",
          "data": {
            "text/plain": [
              "5.0"
            ]
          },
          "metadata": {},
          "execution_count": 299
        }
      ]
    },
    {
      "cell_type": "markdown",
      "source": [
        "## 사분위수\n",
        "* 사분위수(quartile) : 데이터를 가장 작은 수부터 가장 큰 수까지 크기가 커지는 순서대로 정렬하였을 때 1/4, 2/4, 3/4 위치에 있는 수\n",
        "* 각각 1사분위수, 2사분위수, 3사분위수라고 함\n",
        "* 1/4의 위치란 전체 데이터의 수가 만약 100개이면 25번째 순서, 즉 하위 25%\n",
        "* 따라서 2사분위수는 중앙값과 같음\n",
        "* 때로는 위치를 1/100 단위로 나눈 백분위수(percentile)을 사용하기도 함\n",
        "* 1사분위수는 25% 백분위수와 같음\n"
      ],
      "metadata": {
        "id": "b1pLnirSIfsI"
      }
    },
    {
      "cell_type": "code",
      "source": [
        "np.percentile(x, 0)  # 최솟값. min"
      ],
      "metadata": {
        "colab": {
          "base_uri": "https://localhost:8080/"
        },
        "id": "EHTZ62T8Ici8",
        "outputId": "a93abd2c-3d8b-4462-c877-70a90a629035"
      },
      "execution_count": 17,
      "outputs": [
        {
          "output_type": "execute_result",
          "data": {
            "text/plain": [
              "-24.0"
            ]
          },
          "metadata": {},
          "execution_count": 17
        }
      ]
    },
    {
      "cell_type": "code",
      "source": [
        "np.percentile(x, 25)  # 25% 백분위수, 1사분위수"
      ],
      "metadata": {
        "colab": {
          "base_uri": "https://localhost:8080/"
        },
        "id": "h8tVnPH6Ixcv",
        "outputId": "ed816e2f-5c30-4029-c1c4-cced119b3403"
      },
      "execution_count": 18,
      "outputs": [
        {
          "output_type": "execute_result",
          "data": {
            "text/plain": [
              "0.0"
            ]
          },
          "metadata": {},
          "execution_count": 18
        }
      ]
    },
    {
      "cell_type": "code",
      "source": [
        "np.percentile(x, 50)  # 50% 백분위수, 2사분위수, 중앙값"
      ],
      "metadata": {
        "colab": {
          "base_uri": "https://localhost:8080/"
        },
        "id": "PuT1HTElIza1",
        "outputId": "3cfc95ef-e181-4e63-b7e1-503e06cbaa5b"
      },
      "execution_count": null,
      "outputs": [
        {
          "output_type": "execute_result",
          "data": {
            "text/plain": [
              "5.0"
            ]
          },
          "metadata": {},
          "execution_count": 302
        }
      ]
    },
    {
      "cell_type": "code",
      "source": [
        "np.percentile(x, 75)  # 75% 백분위수, 3사분위수, 중앙"
      ],
      "metadata": {
        "colab": {
          "base_uri": "https://localhost:8080/"
        },
        "id": "v7wB_7N_I0zM",
        "outputId": "2775f72d-4095-4ef3-d508-37c7a6c89fa5"
      },
      "execution_count": null,
      "outputs": [
        {
          "output_type": "execute_result",
          "data": {
            "text/plain": [
              "10.0"
            ]
          },
          "metadata": {},
          "execution_count": 303
        }
      ]
    },
    {
      "cell_type": "code",
      "source": [
        "np.percentile(x, 100)  # 100% 백분위수, 4사분위수, 최댓값"
      ],
      "metadata": {
        "colab": {
          "base_uri": "https://localhost:8080/"
        },
        "id": "JbCd4SqGI20l",
        "outputId": "e6f3f6bb-6ae7-4507-de40-3f8c18b1cd7f"
      },
      "execution_count": 19,
      "outputs": [
        {
          "output_type": "execute_result",
          "data": {
            "text/plain": [
              "23.0"
            ]
          },
          "metadata": {},
          "execution_count": 19
        }
      ]
    },
    {
      "cell_type": "markdown",
      "source": [
        "# 난수 발생과 카운팅"
      ],
      "metadata": {
        "id": "x1uZuajeI9Si"
      }
    },
    {
      "cell_type": "markdown",
      "source": [
        "## 시드 설정\n",
        "* 컴퓨터 프로그램에서 발생하는 무작위 수는 사실 엄격한 의미의 무작위 수가 아님\n",
        "* 어떤 특정한 시작 숫자를 정해 주면 컴퓨터가 정해진 알고리즘에 의해 마치 난수처럼 보이는 수열을 생성. 이런 시작 숫자를 시드(seed)라고 함\n",
        "* 일단 생성된 난수는 다음번 난수 생성을 위한 시드값이 됨. 따라서 시드값은 한 번만 정해주면 됨.\n",
        "* 시드는 보통 현재 시각 등을 이용하여 자동으로 정해지지만 사람이 수동으로 설정할 수도 있음 * 특정한 시드값이 사용되면 그 다음에 만들어지는 난수들은 모두 예측할 수 있음\n",
        "* 고정된 결과를 얻기 위해서 실습엔 시드를 설정"
      ],
      "metadata": {
        "id": "ZCEj6C5UJHHc"
      }
    },
    {
      "cell_type": "code",
      "source": [
        "np.random.seed(0) # 시드값 고정"
      ],
      "metadata": {
        "id": "R9wwclqfI8_9"
      },
      "execution_count": 27,
      "outputs": []
    },
    {
      "cell_type": "markdown",
      "source": [
        "### `rand` : 0과 1 사이의 난수를 발생"
      ],
      "metadata": {
        "id": "OQRCx_xUJf6l"
      }
    },
    {
      "cell_type": "code",
      "source": [
        "np.random.rand(5) # rand(n) : n개의 길이를 가지는 배열에 각각 0~1 사이의 난수를 채워줌"
      ],
      "metadata": {
        "colab": {
          "base_uri": "https://localhost:8080/"
        },
        "id": "w26duH5TJb7f",
        "outputId": "6aab54ec-fcea-436b-df42-0ae2a5f26b1e"
      },
      "execution_count": 25,
      "outputs": [
        {
          "output_type": "execute_result",
          "data": {
            "text/plain": [
              "array([4.17022005e-01, 7.20324493e-01, 1.14374817e-04, 3.02332573e-01,\n",
              "       1.46755891e-01])"
            ]
          },
          "metadata": {},
          "execution_count": 25
        }
      ]
    },
    {
      "cell_type": "code",
      "source": [
        "np.random.rand(10)"
      ],
      "metadata": {
        "colab": {
          "base_uri": "https://localhost:8080/"
        },
        "id": "bnSQUYKVJkl8",
        "outputId": "e536d561-d58b-409d-9adc-247d01559fe1"
      },
      "execution_count": 23,
      "outputs": [
        {
          "output_type": "execute_result",
          "data": {
            "text/plain": [
              "array([0.79172504, 0.52889492, 0.56804456, 0.92559664, 0.07103606,\n",
              "       0.0871293 , 0.0202184 , 0.83261985, 0.77815675, 0.87001215])"
            ]
          },
          "metadata": {},
          "execution_count": 23
        }
      ]
    },
    {
      "cell_type": "markdown",
      "source": [
        "*이탤릭체 텍스트*## 데이터의 순서 변경"
      ],
      "metadata": {
        "id": "TvJHX9FmJtgQ"
      }
    },
    {
      "cell_type": "markdown",
      "source": [
        "### `shuffle`\n",
        "* 데이터의 순서를 변경\n",
        "* 자체 변환(in-place) 함수 (원본에 영향)"
      ],
      "metadata": {
        "id": "89jdzc8rJyqB"
      }
    },
    {
      "cell_type": "code",
      "source": [
        "x = np.arange(10)\n",
        "x"
      ],
      "metadata": {
        "colab": {
          "base_uri": "https://localhost:8080/"
        },
        "id": "vUHakdiQJpjl",
        "outputId": "424c613b-4f82-4d7e-9ab7-0b42f05ea320"
      },
      "execution_count": 29,
      "outputs": [
        {
          "output_type": "execute_result",
          "data": {
            "text/plain": [
              "array([0, 1, 2, 3, 4, 5, 6, 7, 8, 9])"
            ]
          },
          "metadata": {},
          "execution_count": 29
        }
      ]
    },
    {
      "cell_type": "code",
      "source": [
        "np.random.shuffle(x) # x를 섞어줌 -> x 자체를 섞어버림\n",
        "x"
      ],
      "metadata": {
        "colab": {
          "base_uri": "https://localhost:8080/"
        },
        "id": "ReqSVnNlJ7S0",
        "outputId": "dfc893ba-68bb-4094-f4ec-053a21239c02"
      },
      "execution_count": 30,
      "outputs": [
        {
          "output_type": "execute_result",
          "data": {
            "text/plain": [
              "array([6, 1, 9, 2, 7, 5, 8, 0, 3, 4])"
            ]
          },
          "metadata": {},
          "execution_count": 30
        }
      ]
    },
    {
      "cell_type": "markdown",
      "source": [
        "## 데이터 샘플링\n",
        "* 표본선택 혹은 샘플링(sampling) : 이미 있는 데이터 집합에서 일부를 무작위로 선택하는 것"
      ],
      "metadata": {
        "id": "MbQrSKXMKJAg"
      }
    },
    {
      "cell_type": "markdown",
      "source": [
        "### `choice` : 샘플링에 사용\n",
        "```\n",
        "numpy.random.choice(a, size=None, replace=True, p=None)\n",
        "```\n",
        "* a : 배열이면 원래의 데이터, 정수이면 arange(a) 명령으로 데이터 생성\n",
        "* size : 정수. 샘플 숫자\n",
        "* replace : 불리언. True이면 한번 선택한 데이터를 다시 선택 가능 (복원/비복원 추출)\n",
        "* p : 배열. 각 데이터가 선택될 수 있는 확률"
      ],
      "metadata": {
        "id": "gEkehbizKWrq"
      }
    },
    {
      "cell_type": "code",
      "source": [
        "np.random.choice(5, 5, replace=False)# 5개중 5개 선택 / 비복원 -> shiffle"
      ],
      "metadata": {
        "colab": {
          "base_uri": "https://localhost:8080/"
        },
        "id": "YvjoHXqIJ9KJ",
        "outputId": "2414beea-b18a-4f16-b55c-d832852f5349"
      },
      "execution_count": 32,
      "outputs": [
        {
          "output_type": "execute_result",
          "data": {
            "text/plain": [
              "array([0, 4, 2, 1, 3])"
            ]
          },
          "metadata": {},
          "execution_count": 32
        }
      ]
    },
    {
      "cell_type": "code",
      "source": [
        "np.random.choice(5, 3, replace=False)# 5개중 3개 선택 / 비복원 -> shiffle"
      ],
      "metadata": {
        "colab": {
          "base_uri": "https://localhost:8080/"
        },
        "id": "knplEnwIKnYh",
        "outputId": "eb8e241b-6779-460f-f50d-8145b0e478bc"
      },
      "execution_count": 33,
      "outputs": [
        {
          "output_type": "execute_result",
          "data": {
            "text/plain": [
              "array([4, 2, 3])"
            ]
          },
          "metadata": {},
          "execution_count": 33
        }
      ]
    },
    {
      "cell_type": "code",
      "source": [
        "# np.random.choice(5, 10) # 복원 5개 중 10개 선택 ( 뽑았던것을 또 뽑는다)\n",
        "np.random.choice(5, 10, replace=True) # 5개 중 10개 선택 ( 뽑았던것을 또 뽑는다)"
      ],
      "metadata": {
        "colab": {
          "base_uri": "https://localhost:8080/"
        },
        "id": "4Yd_3i6QKqMw",
        "outputId": "5a7aa07d-7a00-4f2b-e132-0509095b3ce1"
      },
      "execution_count": 37,
      "outputs": [
        {
          "output_type": "execute_result",
          "data": {
            "text/plain": [
              "array([4, 0, 4, 1, 4, 1, 2, 2, 0, 1])"
            ]
          },
          "metadata": {},
          "execution_count": 37
        }
      ]
    },
    {
      "cell_type": "code",
      "source": [
        "# [0, 1, 2, 3, 4] # p = 확률 약자\n",
        "np.random.choice(5, 10, p=[0.1, 0, 0.3, 0.6, 0]) # 복원, 5개 중에 10개를 선택 (뽑았던 것을 또 뽑는다)"
      ],
      "metadata": {
        "colab": {
          "base_uri": "https://localhost:8080/"
        },
        "id": "lkbuDYTuKvBN",
        "outputId": "c670fdc7-5e97-4dab-b9f6-f8ab4dcecdf8"
      },
      "execution_count": 40,
      "outputs": [
        {
          "output_type": "execute_result",
          "data": {
            "text/plain": [
              "array([3, 0, 3, 3, 2, 2, 2, 2, 3, 3])"
            ]
          },
          "metadata": {},
          "execution_count": 40
        }
      ]
    },
    {
      "cell_type": "markdown",
      "source": [
        "## 난수 생성\n",
        "* `rand` : 0부터 1 사이의 균일 분포\n",
        "* `randn` : 표준 정규 분포\n",
        "* `randint` : 균일 분포의 정수 난수"
      ],
      "metadata": {
        "id": "D8oZhgNLLCgd"
      }
    },
    {
      "cell_type": "markdown",
      "source": [
        "### `rand` : 0부터 1 사이에서 균일한 확률 분포로 실수 난수를 생성\n",
        "* 숫자 인수는 생성할 난수의 크기\n",
        "* 여러 개의 인수를 넣으면 해당 크기를 가진 행렬을 생성"
      ],
      "metadata": {
        "id": "BcH0M0-_LPMP"
      }
    },
    {
      "cell_type": "code",
      "source": [
        "np.random.rand(10)"
      ],
      "metadata": {
        "colab": {
          "base_uri": "https://localhost:8080/"
        },
        "id": "EWqs3z-zK0k_",
        "outputId": "8a627a9f-4f94-4fa9-e8c4-372577f65b91"
      },
      "execution_count": 41,
      "outputs": [
        {
          "output_type": "execute_result",
          "data": {
            "text/plain": [
              "array([0.98837384, 0.10204481, 0.20887676, 0.16130952, 0.65310833,\n",
              "       0.2532916 , 0.46631077, 0.24442559, 0.15896958, 0.11037514])"
            ]
          },
          "metadata": {},
          "execution_count": 41
        }
      ]
    },
    {
      "cell_type": "code",
      "source": [
        "np.random.rand(3, 5) #여러 개의 인수를 넣으면 해당 크기를 가진 행렬을 생성"
      ],
      "metadata": {
        "colab": {
          "base_uri": "https://localhost:8080/"
        },
        "id": "DJTNzp8oLbVj",
        "outputId": "a942f02d-e93d-4c8d-d760-cce9c81ac50e"
      },
      "execution_count": 42,
      "outputs": [
        {
          "output_type": "execute_result",
          "data": {
            "text/plain": [
              "array([[0.65632959, 0.13818295, 0.19658236, 0.36872517, 0.82099323],\n",
              "       [0.09710128, 0.83794491, 0.09609841, 0.97645947, 0.4686512 ],\n",
              "       [0.97676109, 0.60484552, 0.73926358, 0.03918779, 0.28280696]])"
            ]
          },
          "metadata": {},
          "execution_count": 42
        }
      ]
    },
    {
      "cell_type": "markdown",
      "source": [
        "### `randn` : 기댓값이 0이고 표준편차가 1인 표준 정규 분포(standard normal distribution)를 따르는 난수를 생성"
      ],
      "metadata": {
        "id": "HdWD5uVkLjQt"
      }
    },
    {
      "cell_type": "code",
      "source": [
        "np.random.randn(10) #"
      ],
      "metadata": {
        "colab": {
          "base_uri": "https://localhost:8080/"
        },
        "id": "AlJYbewHLeZB",
        "outputId": "8e678d86-3979-4c4c-ccad-64aa7f9779d9"
      },
      "execution_count": 43,
      "outputs": [
        {
          "output_type": "execute_result",
          "data": {
            "text/plain": [
              "array([-0.36433431, -0.67877739, -0.35362786, -0.74074747, -0.67502183,\n",
              "       -0.13278426,  0.61980106,  1.79116846,  0.17100044, -1.72567135])"
            ]
          },
          "metadata": {},
          "execution_count": 43
        }
      ]
    },
    {
      "cell_type": "code",
      "source": [
        "np.random.randn(3, 5) # 3행 5열"
      ],
      "metadata": {
        "colab": {
          "base_uri": "https://localhost:8080/"
        },
        "id": "gbDMC1OxLt3f",
        "outputId": "3c4a569c-7960-488d-8673-215059e62100"
      },
      "execution_count": 44,
      "outputs": [
        {
          "output_type": "execute_result",
          "data": {
            "text/plain": [
              "array([[ 0.16065854, -0.85898532, -0.20642094,  0.48842647, -0.83833097],\n",
              "       [ 0.38116374, -0.99090328,  1.01788005,  0.3415874 , -1.25088622],\n",
              "       [ 0.92525075, -0.90478616,  1.84369153,  1.52550724, -1.44553558]])"
            ]
          },
          "metadata": {},
          "execution_count": 44
        }
      ]
    },
    {
      "cell_type": "markdown",
      "source": [
        "### `randint`\n",
        "```\n",
        "numpy.random.randint(low, high=None, size=None)\n",
        "```\n",
        "만약 `high`를 입력하지 않으면 0과 `low`사이의 숫자, `high`를 입력하면 `low`와 `high`는 사이의 숫자를 출력. `size`는 난수의 숫자"
      ],
      "metadata": {
        "id": "FDtGkcnjLzTM"
      }
    },
    {
      "cell_type": "code",
      "source": [
        "# np.random.randint(10)  # 최대값 -> 그것보다 작은 범위에서의 랜덤 숫자\n",
        "np.random.randint(10, size=1)  # 최대값 -> 그것보다 작은 범위에서의 랜덤 숫자"
      ],
      "metadata": {
        "colab": {
          "base_uri": "https://localhost:8080/"
        },
        "id": "H5eTlhBGLy_D",
        "outputId": "8e308ba3-41cd-4d69-a1e5-d47dbd72ecdf"
      },
      "execution_count": 111,
      "outputs": [
        {
          "output_type": "execute_result",
          "data": {
            "text/plain": [
              "array([0])"
            ]
          },
          "metadata": {},
          "execution_count": 111
        }
      ]
    },
    {
      "cell_type": "code",
      "source": [
        "np.random.randint(10, size=2) # 시작점"
      ],
      "metadata": {
        "colab": {
          "base_uri": "https://localhost:8080/"
        },
        "id": "xlpHLyNALuyj",
        "outputId": "30faaa45-d32b-49e5-cd6f-217f47a7ff6d"
      },
      "execution_count": 68,
      "outputs": [
        {
          "output_type": "execute_result",
          "data": {
            "text/plain": [
              "array([5, 7])"
            ]
          },
          "metadata": {},
          "execution_count": 68
        }
      ]
    },
    {
      "cell_type": "code",
      "source": [
        "np.random.randint(10, 20, size=10)  # 시작점, 끝점"
      ],
      "metadata": {
        "colab": {
          "base_uri": "https://localhost:8080/"
        },
        "id": "RwOU04I2ME1f",
        "outputId": "fb75b238-0562-4e0c-8397-329abd53d2bc"
      },
      "execution_count": 48,
      "outputs": [
        {
          "output_type": "execute_result",
          "data": {
            "text/plain": [
              "array([16, 19, 18, 10, 18, 15, 19, 10, 19, 16])"
            ]
          },
          "metadata": {},
          "execution_count": 48
        }
      ]
    },
    {
      "cell_type": "markdown",
      "source": [
        "## 💡 연습문제 7\n",
        "1. 동전을 10번 던져 앞면(숫자 1)과 뒷면(숫자 0)이 나오는 가상 실험을 작성하라\n",
        "2. 주사위를 100번 던져서 나오는 숫자의 평균\n",
        "3. 가격이 10,000원인 주식이 있다. 이 주식의 일간 수익률(%)은 기댓값이 0%이고 표준편차가 1%인 표준 정규 분포를 따른다고 하자. 250일 동안의 주가를 무작위로 생성하라"
      ],
      "metadata": {
        "id": "dCofCh17MOVI"
      }
    },
    {
      "cell_type": "code",
      "source": [
        "# 1.\n",
        "np.random.choice(2, 10)\n"
      ],
      "metadata": {
        "colab": {
          "base_uri": "https://localhost:8080/"
        },
        "id": "wSVBjqWJMGJ3",
        "outputId": "a065adff-d6b9-469d-d167-939d66809431"
      },
      "execution_count": 82,
      "outputs": [
        {
          "output_type": "execute_result",
          "data": {
            "text/plain": [
              "array([0, 1, 0, 1, 0, 0, 0, 1, 1, 1])"
            ]
          },
          "metadata": {},
          "execution_count": 82
        }
      ]
    },
    {
      "cell_type": "code",
      "source": [
        "# 1.\n",
        "np.random.choice([0, 1], size=10, replace=True)"
      ],
      "metadata": {
        "id": "pkv5LtLbZ4_k"
      },
      "execution_count": 90,
      "outputs": []
    },
    {
      "cell_type": "code",
      "source": [
        "# 1.\n",
        "np.random.choice([\"H\", \"T\"], size=10, replace=True)"
      ],
      "metadata": {
        "id": "PfEWRQR7beQp"
      },
      "execution_count": null,
      "outputs": []
    },
    {
      "cell_type": "code",
      "source": [
        "# 2.\n",
        "x = np.random.randint(1, 7, size=100)  # 시작점, 끝점\n",
        "x.mean(),\n",
        "np.mean(x)"
      ],
      "metadata": {
        "colab": {
          "base_uri": "https://localhost:8080/"
        },
        "id": "rpstIcwsNB-3",
        "outputId": "c1b45de4-8a66-4ce0-83a8-d2796f623e7c"
      },
      "execution_count": 91,
      "outputs": [
        {
          "output_type": "execute_result",
          "data": {
            "text/plain": [
              "3.41"
            ]
          },
          "metadata": {},
          "execution_count": 91
        }
      ]
    },
    {
      "cell_type": "code",
      "source": [
        "#2.\n",
        "# np.random.randint(1, 7, 100)\n",
        "# np.random.randint(1, 7, 100).mean()\n",
        "np.random.choice(range(1,7), size=100, replace=True).mean()"
      ],
      "metadata": {
        "id": "LEfoEZgubkaQ"
      },
      "execution_count": null,
      "outputs": []
    },
    {
      "cell_type": "code",
      "source": [
        "# 3.\n",
        "np.random.randn(250)  # 정규분포!\n",
        "# 평균(기댓값)이 0이고, 표준편차가 1인 정규분포. 1% -> 0.01"
      ],
      "metadata": {
        "colab": {
          "base_uri": "https://localhost:8080/"
        },
        "id": "zrCTnmQBNjbm",
        "outputId": "ee062ef9-5616-4f54-a19d-81d308032b4a"
      },
      "execution_count": 87,
      "outputs": [
        {
          "output_type": "execute_result",
          "data": {
            "text/plain": [
              "array([-0.26089516, -1.49464313,  0.83332436, -0.29771005,  0.63691096,\n",
              "       -1.38368487, -0.60942974, -1.83077942, -0.77919544,  0.89461092,\n",
              "       -0.5544584 , -1.18814213,  0.56724765,  1.15315037,  0.9010615 ,\n",
              "       -0.30860235,  0.86366189, -0.201526  ,  0.05235536,  0.48242568,\n",
              "       -0.37134436,  0.52901791, -0.44788616, -0.33338223, -0.33871576,\n",
              "        0.14772858, -0.20024487, -1.02397595,  0.0398592 , -3.09234795,\n",
              "       -1.1707282 ,  0.04106505, -0.73727285, -1.09352086, -1.014161  ,\n",
              "        0.58348329,  0.49065736,  0.54815781, -1.29708914,  0.26270223,\n",
              "       -0.82140699, -0.61599629, -0.27953073,  0.24995909,  1.64901392,\n",
              "        0.17818544,  0.13350883, -0.39389336, -0.19919594, -0.19581751,\n",
              "       -0.01688324,  2.50250399, -0.26823193, -0.29432058, -0.15083477,\n",
              "       -0.51334765, -0.50019511, -1.78039075,  0.64246727, -0.48808545,\n",
              "        0.20312166,  1.42142296, -1.89704793, -0.57754466, -0.20606502,\n",
              "        0.02475836, -0.24191347,  0.84551196, -0.14900842,  0.70746871,\n",
              "       -1.67807115, -1.33409484, -0.69302387, -0.19838774,  0.62846731,\n",
              "        0.65990782,  1.08536746,  0.6865379 , -0.21863479,  1.18507171,\n",
              "        0.83115264, -0.08011202, -0.33649173,  0.65838587,  1.85798361,\n",
              "       -1.4529867 ,  1.08027114, -0.12878367, -0.86731517, -1.42381487,\n",
              "       -1.92868156, -0.83036713, -1.41883375, -0.57296218,  0.77385119,\n",
              "        0.58486527,  3.22269633,  0.18783058,  0.21446252,  0.49083757,\n",
              "        0.37372147, -1.09339776, -0.26366375,  0.55801301, -1.34237994,\n",
              "       -2.20583651,  0.29100641, -1.38158564, -1.89313995,  0.79279318,\n",
              "       -0.75994254,  1.29582188,  0.56405461, -1.42815263,  0.7292123 ,\n",
              "        1.02477548,  0.40258186,  0.23529508, -1.66536507,  0.59569841,\n",
              "       -0.85034277, -1.99562601,  1.081129  , -1.11699993, -0.25905449,\n",
              "       -1.01090425,  1.23598696, -1.19538721, -0.32317626, -0.82124736,\n",
              "        0.83793644, -1.02012269, -0.40610149,  1.02332509,  2.75251678,\n",
              "        0.90970186, -0.14658433,  1.08227907,  1.06824096, -0.45849413,\n",
              "       -0.98636165, -1.44385879,  0.65002778,  0.03937248, -0.63489623,\n",
              "        0.2870854 , -0.85865474, -0.63746198,  0.48827356, -1.83116821,\n",
              "        0.21364018,  0.98558785,  0.05521097,  0.57838895, -0.33556307,\n",
              "        2.70204288, -0.70521663,  1.96647975, -1.78471347, -0.34505394,\n",
              "       -1.35087022,  2.14645351,  0.63768902,  0.20848398,  2.06277193,\n",
              "        0.87088676, -0.54872119, -0.9439015 , -0.83662151, -0.21608811,\n",
              "       -1.05659944,  0.90069954, -0.10642803, -0.3249121 , -1.09396882,\n",
              "       -1.3804023 , -0.60099422, -0.06686761,  0.15909612,  0.38109658,\n",
              "       -1.16167258, -0.2933484 , -2.79689401,  2.58564124, -0.16687005,\n",
              "        0.06523076, -0.11781739,  0.9802648 , -1.58416823,  0.01331811,\n",
              "       -1.64983727,  0.59392833,  0.23672762,  0.40017664,  1.18541656,\n",
              "       -1.33495551, -0.3045358 ,  0.49528995, -0.66654457,  0.06103776,\n",
              "        0.91594048, -0.79245514,  0.38727614, -2.46381588,  0.22793579,\n",
              "        0.53016016, -0.19775959,  2.03261145, -1.57436749, -0.943029  ,\n",
              "       -0.5374389 , -0.99620442,  0.37069836, -0.17784424,  0.53856237,\n",
              "       -0.67523808, -2.19172607, -0.08308188,  0.64804281, -0.77153539,\n",
              "        0.47250625,  0.5913036 ,  1.28508722, -0.98127377, -0.845046  ,\n",
              "       -0.49256884,  0.2923201 ,  1.60513919, -3.29880942,  0.44576572,\n",
              "        1.09552747, -1.05306806,  1.09848128, -0.54928975,  0.2360793 ,\n",
              "       -2.0018733 ,  0.04722073, -1.85041997,  0.64174423,  0.30788639,\n",
              "        1.32897904,  0.417085  ,  0.54221049,  0.25474664,  0.91823141,\n",
              "        0.80067827,  1.93718055, -1.6051322 , -1.65217771, -1.65116407])"
            ]
          },
          "metadata": {},
          "execution_count": 87
        }
      ]
    },
    {
      "cell_type": "code",
      "source": [
        "a = np.random.randn(250) / 100  # 일간 수익률이 표준정규분포를 따르는 (0과 0.01 표준편차)\n",
        "a"
      ],
      "metadata": {
        "colab": {
          "base_uri": "https://localhost:8080/"
        },
        "id": "SaVjLvaXaTGP",
        "outputId": "8efcddd1-e6df-4924-c62b-eb64580d8981"
      },
      "execution_count": 90,
      "outputs": [
        {
          "output_type": "execute_result",
          "data": {
            "text/plain": [
              "array([-4.43266626e-03,  2.13281409e-02, -1.59504588e-02,  9.20339586e-03,\n",
              "        6.46775108e-03, -2.31942114e-03, -8.59998277e-03, -7.70661263e-03,\n",
              "       -2.69942025e-03,  1.07156435e-02,  4.46628707e-03, -1.09843009e-02,\n",
              "       -5.06210903e-03, -1.14836131e-03, -7.99017278e-03,  7.94817798e-04,\n",
              "        6.30076164e-03, -1.11873979e-02, -1.63704369e-03, -7.41381567e-03,\n",
              "        1.54117039e-02, -8.76797480e-03, -1.21889947e-03, -1.21210863e-02,\n",
              "        4.85783586e-03,  7.96164448e-03,  1.05988089e-03,  3.10120816e-04,\n",
              "        1.40530363e-02,  2.52263342e-03,  3.78177411e-03,  1.02735600e-02,\n",
              "       -4.64379666e-03,  1.10418727e-02,  5.57811329e-03,  7.87547713e-04,\n",
              "        5.67146891e-03,  4.05387716e-03,  2.82834968e-03, -2.36161737e-03,\n",
              "        4.53462807e-03, -1.47699400e-02, -1.79678618e-02, -2.88264142e-02,\n",
              "        2.13871582e-04, -1.12568085e-02, -9.20205825e-04, -8.77926855e-03,\n",
              "        6.19802580e-04, -5.27696049e-03,  2.47829335e-03, -1.71167575e-03,\n",
              "        2.67755412e-02,  1.44767666e-02, -8.17150581e-03,  3.21930839e-03,\n",
              "        9.04131382e-03, -9.98758785e-04,  1.13644303e-02,  1.45603518e-02,\n",
              "       -6.29543922e-03, -5.34616217e-03,  4.55580677e-03, -1.41118049e-02,\n",
              "       -4.20310739e-03,  1.72097787e-02, -3.01673672e-03,  5.85109290e-04,\n",
              "        1.02905669e-02,  1.44046434e-02,  8.76091862e-04, -1.74481197e-02,\n",
              "        4.76831795e-03,  1.02484502e-02, -2.42908458e-03,  5.88454013e-03,\n",
              "       -1.01115750e-02, -6.29740377e-05,  4.95798574e-03,  1.36050927e-02,\n",
              "       -7.49855388e-03, -6.24588366e-03,  2.02577821e-04, -5.19005659e-03,\n",
              "        1.80073330e-03,  8.46235699e-03,  1.10933365e-02, -1.21454410e-02,\n",
              "        7.37080240e-03,  1.53339922e-03, -5.18935414e-03, -1.38334472e-02,\n",
              "       -3.89464638e-03, -8.08947929e-03,  1.95170816e-02, -5.60467679e-04,\n",
              "        6.53996953e-03, -6.66321586e-03,  3.98132528e-03, -9.48419384e-04,\n",
              "        1.34447305e-02,  1.10876805e-02,  1.52575915e-02, -2.34136618e-03,\n",
              "       -8.13230959e-03, -1.51396445e-02, -2.70738729e-03, -7.82577259e-03,\n",
              "       -4.60406569e-03,  6.80245535e-03,  6.81272574e-03, -1.52951664e-02,\n",
              "       -2.30643557e-03, -8.93936949e-03,  8.54397565e-03,  1.36515728e-03,\n",
              "       -8.57919969e-04,  1.09049567e-02, -8.64210685e-03,  4.76491498e-03,\n",
              "        2.66442721e-03, -1.56722817e-02, -8.50477684e-03,  2.77385118e-03,\n",
              "       -1.26291283e-02,  4.43334875e-04,  6.32188137e-03,  2.44738670e-03,\n",
              "       -8.67667695e-03, -8.45485755e-03, -4.19158581e-03, -3.77750759e-03,\n",
              "        1.63750475e-03, -8.43910189e-03, -8.13766775e-05, -5.24534561e-04,\n",
              "       -2.53881010e-03,  1.35419063e-02,  1.24652925e-02,  2.04875727e-03,\n",
              "       -7.67124816e-03,  1.20402409e-03,  1.24947782e-02,  3.30307000e-03,\n",
              "       -2.38985811e-03, -9.39016164e-03,  4.69528420e-03, -8.12072804e-03,\n",
              "       -1.07841446e-04, -1.10699286e-02, -8.02745087e-03,  1.37345152e-02,\n",
              "       -5.47369795e-03,  2.10150806e-04, -6.41826535e-03,  4.44518303e-03,\n",
              "        2.61805944e-03,  7.59138393e-03, -8.39450485e-03,  3.29922917e-03,\n",
              "        1.25814707e-02,  1.93909016e-02, -1.29581337e-02, -9.80377431e-03,\n",
              "       -2.68628099e-02, -7.83936917e-04, -9.16873928e-03, -2.54274025e-04,\n",
              "        6.32237326e-03, -1.74416374e-03, -1.46304543e-02, -1.04096606e-02,\n",
              "       -1.52986580e-02, -2.85655964e-03,  1.24532717e-03,  2.83929557e-03,\n",
              "       -8.58033311e-03, -8.73778464e-03, -1.22274754e-02,  9.06464144e-03,\n",
              "        5.42524256e-03,  7.46182125e-03, -1.78247084e-03, -2.15573389e-02,\n",
              "       -3.47130453e-03, -4.53850769e-03,  1.94447464e-03,  7.56104980e-03,\n",
              "        5.30186270e-03,  2.01755063e-02,  2.18936384e-03,  1.48849613e-02,\n",
              "        6.89860242e-03,  3.62673791e-03,  1.19483200e-02, -2.03943694e-02,\n",
              "        1.02602719e-02, -1.44248410e-02,  6.36174671e-03,  8.09879856e-03,\n",
              "        3.78700106e-03, -6.68313264e-03,  3.84781626e-03,  8.97950297e-03,\n",
              "       -9.97298085e-03,  9.83674971e-03,  4.50008655e-03,  3.48292145e-03,\n",
              "       -4.92793677e-03,  1.26607612e-02, -6.20985805e-03, -3.23760502e-03,\n",
              "       -8.18902168e-03, -2.14715461e-02,  1.37635803e-02, -1.20300073e-02,\n",
              "       -4.97372459e-03, -4.53086102e-03, -2.19196348e-02,  1.51699392e-02,\n",
              "        8.08518126e-03, -1.59402563e-02,  1.84869494e-02, -8.99784143e-03,\n",
              "       -6.79260624e-03, -1.77797982e-02,  1.36394620e-02, -1.48274652e-03,\n",
              "       -9.94751892e-03, -1.27236322e-03,  7.93823953e-03, -7.69330335e-03,\n",
              "       -1.47045030e-02,  1.59788138e-02, -6.70932827e-03,  8.53232538e-03,\n",
              "       -4.07517086e-04,  2.51355387e-02,  2.50878593e-03,  1.06358558e-02,\n",
              "        2.53458094e-03, -1.83504897e-02,  4.24578323e-03,  1.31372566e-02,\n",
              "       -6.44856685e-03,  1.08663223e-03,  1.06905510e-02, -1.71194345e-03,\n",
              "       -1.20138892e-02, -2.35806594e-03])"
            ]
          },
          "metadata": {},
          "execution_count": 90
        }
      ]
    },
    {
      "cell_type": "code",
      "source": [
        "start = 10000  # 가격이 10000원 -> 250일 -> 평균/표준편차가 반영되면서 250일.\n",
        "price = np.empty(250)  # 자리\n",
        "for i, v in enumerate(a): # a -> 가격이 0의 기댓값, 1%의 표준편차를 바탕으로 250일치의 변화율이 생성\n",
        "    start *= (1 + v)  # i = index, v = 변화율\n",
        "    # -> 해당 금액의 변화율이 반영된 금액\n",
        "    price[i] = start  # 변화율에 따라서 변경된 금액에 배열에 저장.\n",
        "    # 한 번씩 for이 돌때마다 -> index += 1 => 계속 변화율이 반영된 금액들이 다음 인덱스에 저장"
      ],
      "metadata": {
        "id": "8OKEB880aTgx"
      },
      "execution_count": 93,
      "outputs": []
    },
    {
      "cell_type": "code",
      "source": [
        "price"
      ],
      "metadata": {
        "colab": {
          "base_uri": "https://localhost:8080/"
        },
        "id": "91xWDE-7aRbs",
        "outputId": "485c39bf-d21e-4340-ba20-5249181293c4"
      },
      "execution_count": 92,
      "outputs": [
        {
          "output_type": "execute_result",
          "data": {
            "text/plain": [
              "array([9883.78137426, 9968.57944464, 9841.6186762 , 9594.4859386 ,\n",
              "       9628.5438154 , 9595.06451168, 9570.28286851, 9618.5793089 ,\n",
              "       9607.69352388, 9657.47644671, 9593.06802826, 9578.42084214,\n",
              "       9501.72900862, 9513.94655308, 9443.023873  , 9368.48446257,\n",
              "       9423.9520892 , 9404.46544522, 9461.52922411, 9463.1973051 ,\n",
              "       9478.11109127, 9460.57910477, 9467.04002392, 9555.87570324,\n",
              "       9529.10549585, 9559.16293926, 9403.7072512 , 9424.61992127,\n",
              "       9387.65769273, 9361.49589267, 9206.11489445, 9192.63420828,\n",
              "       9006.59774199, 9124.63469586, 9045.6423654 , 9036.69412953,\n",
              "       9004.18975565, 8948.50714888, 8888.53302391, 8867.90444019,\n",
              "       8839.50310416, 8795.81321081, 8711.92326963, 8607.5928555 ,\n",
              "       8600.2082051 , 8659.26804041, 8567.17360292, 8482.71834255,\n",
              "       8502.96278371, 8618.72244872, 8624.60912351, 8864.14211373,\n",
              "       8790.8623261 , 9046.88062486, 9122.68960059, 9061.73325095,\n",
              "       9168.66741536, 9205.45168589, 9164.26913988, 8974.0975058 ,\n",
              "       8991.87893231, 8959.84869144, 8978.03078861, 8899.28035724,\n",
              "       8871.60138687, 8770.22443003, 8641.31648674, 8600.02581063,\n",
              "       8711.46750718, 8687.66569616, 8496.67038823, 8685.19501005,\n",
              "       8604.68258941, 8508.07517479, 8648.55876836, 8805.84243302,\n",
              "       8916.50840451, 8967.17370803, 8900.26929249, 8849.63270959,\n",
              "       8747.65385587, 8670.58529027, 8690.29706269, 8804.16562904,\n",
              "       8794.93797766, 8626.2788738 , 8616.6758183 , 8435.03332867,\n",
              "       8513.30255769, 8449.62723513, 8537.15537692, 8450.65501065,\n",
              "       8409.34765489, 8498.46518075, 8472.27383435, 8508.88515791,\n",
              "       8558.70541221, 8520.07419369, 8639.18375011, 8739.12640005,\n",
              "       8665.43372268, 8637.07317672, 8732.25607508, 8851.89251064,\n",
              "       8716.05708713, 8703.62698903, 8648.24516257, 8696.61260813,\n",
              "       8579.34715614, 8703.52917384, 8537.76743887, 8417.47688768,\n",
              "       8287.57596841, 8360.71080608, 8566.1670849 , 8485.50721188,\n",
              "       8461.49441577, 8352.32130587, 8356.00930951, 8475.93486678,\n",
              "       8409.03164644, 8472.91191143, 8449.5437259 , 8356.80575266,\n",
              "       8320.94146365, 8337.72611244, 8283.55850661, 8296.63511167,\n",
              "       8310.03914546, 8226.67838633, 8286.18209793, 8220.12169835,\n",
              "       8196.90426783, 8161.83961031, 8265.74549003, 8220.52790987,\n",
              "       8190.13795053, 8144.31573478, 8081.16191834, 8049.73262649,\n",
              "       8052.19444988, 7959.10368598, 7963.15712807, 8077.5711197 ,\n",
              "       8228.12689244, 8264.6382811 , 8271.32556804, 8330.43403946,\n",
              "       8380.66196952, 8369.84172555, 8331.87316451, 8158.74044874,\n",
              "       8065.86419557, 8119.50621223, 8002.99081176, 7987.61819509,\n",
              "       8006.62881469, 7972.40603815, 7906.02348843, 7827.31261937,\n",
              "       7813.74495044, 7818.36724067, 7735.79431314, 7776.12653967,\n",
              "       7949.27098897, 7906.76743576, 7892.61656515, 7937.7964815 ,\n",
              "       7894.55531982, 7879.78345245, 7826.3468611 , 7842.21621966,\n",
              "       7783.51651794, 7834.73862788, 7861.36757744, 7861.66917319,\n",
              "       7931.89458869, 7877.65190337, 7817.01561953, 7878.48516557,\n",
              "       7869.25117697, 7847.52450581, 7830.34581558, 7818.78317522,\n",
              "       7963.04477634, 7997.99772439, 7895.8297536 , 7880.92620457,\n",
              "       7968.69569764, 7890.33572275, 7715.30863667, 7592.50803117,\n",
              "       7640.26606425, 7665.44343075, 7691.85676137, 7657.78240582,\n",
              "       7512.1963927 , 7550.74394885, 7683.06655492, 7617.66056693,\n",
              "       7631.63493762, 7749.24136772, 7694.0605703 , 7685.31980017,\n",
              "       7653.18010659, 7563.85907116, 7604.07272207, 7486.468663  ,\n",
              "       7458.43493475, 7394.95709257, 7339.01039132, 7363.71954187,\n",
              "       7405.78654655, 7349.33896093, 7402.82069683, 7340.20856336,\n",
              "       7364.09856433, 7361.60132318, 7388.17651949, 7415.43610768,\n",
              "       7401.9624502 , 7381.88055362, 7507.9394503 , 7586.36812864,\n",
              "       7610.0324512 , 7532.32314401, 7509.35863907, 7484.80064019,\n",
              "       7399.35367995, 7484.05451068, 7547.9848304 , 7591.99869552,\n",
              "       7591.68233743, 7552.03009628, 7520.92987907, 7533.99822889,\n",
              "       7360.70901683, 7268.99716863, 7272.91408934, 7253.1364333 ,\n",
              "       7215.32890008, 7323.56422704, 7344.90182899, 7306.0895626 ,\n",
              "       7333.10041811, 7257.58980782, 7305.12375252, 7204.78884294,\n",
              "       7140.84462314, 7159.22644905])"
            ]
          },
          "metadata": {},
          "execution_count": 92
        }
      ]
    },
    {
      "cell_type": "markdown",
      "source": [
        "## 정수 데이터 카운팅\n",
        "* 만약 난수가 정수값이면 unique 명령이나 bincount 명령으로 데이터 값을 분석"
      ],
      "metadata": {
        "id": "zc2junJdO2d8"
      }
    },
    {
      "cell_type": "markdown",
      "source": [
        "### `unique`\n",
        "* unique 함수는 데이터에서 중복된 값을 제거하고 중복되지 않는 값의 리스트를 출력\n",
        "* return_counts 인수를 True 로 설정하면 각 값을 가진 데이터 갯수도 출력\n"
      ],
      "metadata": {
        "id": "NQWG8zU8PJtG"
      }
    },
    {
      "cell_type": "code",
      "source": [
        "np.unique([11, 11, 2, 2, 34, 34]) #중복된 값을 제거하고 중복되지 않는 값의 리스트를 출력"
      ],
      "metadata": {
        "colab": {
          "base_uri": "https://localhost:8080/"
        },
        "id": "Zy46ohsVPDJv",
        "outputId": "99ae51d3-f3c2-4296-dabe-eef5caf39a8f"
      },
      "execution_count": 97,
      "outputs": [
        {
          "output_type": "execute_result",
          "data": {
            "text/plain": [
              "array([ 2, 11, 34])"
            ]
          },
          "metadata": {},
          "execution_count": 97
        }
      ]
    },
    {
      "cell_type": "code",
      "source": [
        "a = np.array(list('abbca'))\n",
        "a"
      ],
      "metadata": {
        "id": "9l5BuLbwPPQF",
        "colab": {
          "base_uri": "https://localhost:8080/"
        },
        "outputId": "187565e3-ee43-4073-f005-04d71ec37e24"
      },
      "execution_count": 98,
      "outputs": [
        {
          "output_type": "execute_result",
          "data": {
            "text/plain": [
              "array(['a', 'b', 'b', 'c', 'a'], dtype='<U1')"
            ]
          },
          "metadata": {},
          "execution_count": 98
        }
      ]
    },
    {
      "cell_type": "code",
      "source": [
        "np.unique(a, return_counts=True)"
      ],
      "metadata": {
        "colab": {
          "base_uri": "https://localhost:8080/"
        },
        "id": "kMLRdBasPQ4L",
        "outputId": "e461a48f-36c4-4d68-e1c1-7c1842019932"
      },
      "execution_count": 112,
      "outputs": [
        {
          "output_type": "execute_result",
          "data": {
            "text/plain": [
              "(array(['a', 'b', 'c'], dtype='<U1'), array([2, 2, 1]))"
            ]
          },
          "metadata": {},
          "execution_count": 112
        }
      ]
    },
    {
      "cell_type": "code",
      "source": [
        "index, value = np.unique(a, return_counts=True)\n",
        "index, value"
      ],
      "metadata": {
        "colab": {
          "base_uri": "https://localhost:8080/"
        },
        "id": "Kpx6OGmoPRi1",
        "outputId": "d0524fd5-b757-4bf3-9895-f24ac21fc1f1"
      },
      "execution_count": 101,
      "outputs": [
        {
          "output_type": "execute_result",
          "data": {
            "text/plain": [
              "(array(['a', 'b', 'c'], dtype='<U1'), array([2, 2, 1]))"
            ]
          },
          "metadata": {},
          "execution_count": 101
        }
      ]
    },
    {
      "cell_type": "code",
      "source": [
        "# dict(np.unique(a, return_counts=True))"
      ],
      "metadata": {
        "id": "7BhStBNpdh8f"
      },
      "execution_count": null,
      "outputs": []
    },
    {
      "cell_type": "code",
      "source": [
        "index, value"
      ],
      "metadata": {
        "id": "BJTccARsdF8G"
      },
      "execution_count": 95,
      "outputs": []
    },
    {
      "cell_type": "code",
      "source": [
        "list(zip(index, value))  # 같은 인덱스에 있는 값끼리 튜플화시켜서 묶어줌\n",
        "# index, value == *np.unique(a, return_counts=True)"
      ],
      "metadata": {
        "colab": {
          "base_uri": "https://localhost:8080/"
        },
        "id": "viP5qkFMdGDG",
        "outputId": "93036529-d14d-4d5a-fba5-6594abb6b5d5"
      },
      "execution_count": 104,
      "outputs": [
        {
          "output_type": "execute_result",
          "data": {
            "text/plain": [
              "[('a', 2), ('b', 2), ('c', 1)]"
            ]
          },
          "metadata": {},
          "execution_count": 104
        }
      ]
    },
    {
      "cell_type": "code",
      "source": [
        "dict(zip(*np.unique(a, return_counts=True)))  # key, value"
      ],
      "metadata": {
        "colab": {
          "base_uri": "https://localhost:8080/"
        },
        "id": "QlBgADN6dkFx",
        "outputId": "c67f99f9-8c62-4738-dc63-aa70752a46c3"
      },
      "execution_count": 105,
      "outputs": [
        {
          "output_type": "execute_result",
          "data": {
            "text/plain": [
              "{'a': 2, 'b': 2, 'c': 1}"
            ]
          },
          "metadata": {},
          "execution_count": 105
        }
      ]
    },
    {
      "cell_type": "markdown",
      "source": [
        "### `bincount`\n",
        "* `unique` 함수는 데이터에 존재하는 값에 대해서만 갯수를 세므로 데이터 값이 나올 수 있음에도 불구하고 데이터가 하나도 없는 경우에는 정보를 주지 않음\n",
        "* 따라서 데이터가 주사위를 던졌을 때 나오는 수처럼 특정 범위안의 수인 경우에는 `bincount` 함수에 `minlength` 인수를 설정하여 쓰는 것이 더 편리\n",
        "* `bincount` 함수는 0 부터 `minlength` - 1 까지의 숫자에 대해 각각 카운트\n",
        "* 데이터가 없을 경우에는 카운트 값이 0이 됨"
      ],
      "metadata": {
        "id": "GihAHqezPWii"
      }
    },
    {
      "cell_type": "code",
      "source": [
        "np.bincount([1, 1, 2, 2, 2, 3], minlength=6) # 1 = 2, 2 = 3, 3 = 1"
      ],
      "metadata": {
        "colab": {
          "base_uri": "https://localhost:8080/"
        },
        "id": "SWLVdyPEPmqk",
        "outputId": "335ab36e-cebf-4c02-cb07-4b7c7d1bfa81"
      },
      "execution_count": 106,
      "outputs": [
        {
          "output_type": "execute_result",
          "data": {
            "text/plain": [
              "array([0, 2, 3, 1, 0, 0])"
            ]
          },
          "metadata": {},
          "execution_count": 106
        }
      ]
    }
  ]
}